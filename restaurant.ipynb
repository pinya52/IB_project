{
 "cells": [
  {
   "cell_type": "code",
   "execution_count": 1,
   "metadata": {},
   "outputs": [],
   "source": [
    "import csv\n",
    "import pandas as pd\n",
    "from tqdm import tqdm, trange"
   ]
  },
  {
   "cell_type": "code",
   "execution_count": 2,
   "metadata": {},
   "outputs": [
    {
     "name": "stderr",
     "output_type": "stream",
     "text": [
      "/tmp/ipykernel_648336/3052713340.py:3: SettingWithCopyWarning: \n",
      "A value is trying to be set on a copy of a slice from a DataFrame\n",
      "\n",
      "See the caveats in the documentation: https://pandas.pydata.org/pandas-docs/stable/user_guide/indexing.html#returning-a-view-versus-a-copy\n",
      "  info_df.rename(columns = {'店名':'name', '店址':'address'}, inplace = True)\n"
     ]
    },
    {
     "data": {
      "text/html": [
       "<div>\n",
       "<style scoped>\n",
       "    .dataframe tbody tr th:only-of-type {\n",
       "        vertical-align: middle;\n",
       "    }\n",
       "\n",
       "    .dataframe tbody tr th {\n",
       "        vertical-align: top;\n",
       "    }\n",
       "\n",
       "    .dataframe thead th {\n",
       "        text-align: right;\n",
       "    }\n",
       "</style>\n",
       "<table border=\"1\" class=\"dataframe\">\n",
       "  <thead>\n",
       "    <tr style=\"text-align: right;\">\n",
       "      <th></th>\n",
       "      <th>name</th>\n",
       "      <th>address</th>\n",
       "    </tr>\n",
       "  </thead>\n",
       "  <tbody>\n",
       "    <tr>\n",
       "      <th>0</th>\n",
       "      <td>% shabu</td>\n",
       "      <td>桃園市桃園區中埔ㄧ街331號</td>\n",
       "    </tr>\n",
       "    <tr>\n",
       "      <th>1</th>\n",
       "      <td>% shabu</td>\n",
       "      <td>桃園市桃園區中埔ㄧ街331號</td>\n",
       "    </tr>\n",
       "    <tr>\n",
       "      <th>2</th>\n",
       "      <td>% shabu</td>\n",
       "      <td>桃園市桃園區中埔ㄧ街331號</td>\n",
       "    </tr>\n",
       "    <tr>\n",
       "      <th>3</th>\n",
       "      <td>% shabu</td>\n",
       "      <td>桃園市桃園區中埔ㄧ街331號</td>\n",
       "    </tr>\n",
       "    <tr>\n",
       "      <th>4</th>\n",
       "      <td>% shabu</td>\n",
       "      <td>桃園市桃園區中埔ㄧ街331號</td>\n",
       "    </tr>\n",
       "    <tr>\n",
       "      <th>...</th>\n",
       "      <td>...</td>\n",
       "      <td>...</td>\n",
       "    </tr>\n",
       "    <tr>\n",
       "      <th>188038</th>\n",
       "      <td>ＴＡＣＢ</td>\n",
       "      <td>高雄市新興區林森二路135巷35號</td>\n",
       "    </tr>\n",
       "    <tr>\n",
       "      <th>188039</th>\n",
       "      <td>ＴＡＣＢ</td>\n",
       "      <td>高雄市新興區林森二路135巷35號</td>\n",
       "    </tr>\n",
       "    <tr>\n",
       "      <th>188040</th>\n",
       "      <td>ＴＡＣＢ</td>\n",
       "      <td>高雄市新興區林森二路135巷35號</td>\n",
       "    </tr>\n",
       "    <tr>\n",
       "      <th>188041</th>\n",
       "      <td>ＴＡＣＢ</td>\n",
       "      <td>高雄市新興區林森二路135巷35號</td>\n",
       "    </tr>\n",
       "    <tr>\n",
       "      <th>188042</th>\n",
       "      <td>ＴＡＣＢ</td>\n",
       "      <td>高雄市新興區林森二路135巷35號</td>\n",
       "    </tr>\n",
       "  </tbody>\n",
       "</table>\n",
       "<p>188043 rows × 2 columns</p>\n",
       "</div>"
      ],
      "text/plain": [
       "           name            address\n",
       "0       % shabu     桃園市桃園區中埔ㄧ街331號\n",
       "1       % shabu     桃園市桃園區中埔ㄧ街331號\n",
       "2       % shabu     桃園市桃園區中埔ㄧ街331號\n",
       "3       % shabu     桃園市桃園區中埔ㄧ街331號\n",
       "4       % shabu     桃園市桃園區中埔ㄧ街331號\n",
       "...         ...                ...\n",
       "188038     ＴＡＣＢ  高雄市新興區林森二路135巷35號\n",
       "188039     ＴＡＣＢ  高雄市新興區林森二路135巷35號\n",
       "188040     ＴＡＣＢ  高雄市新興區林森二路135巷35號\n",
       "188041     ＴＡＣＢ  高雄市新興區林森二路135巷35號\n",
       "188042     ＴＡＣＢ  高雄市新興區林森二路135巷35號\n",
       "\n",
       "[188043 rows x 2 columns]"
      ]
     },
     "execution_count": 2,
     "metadata": {},
     "output_type": "execute_result"
    }
   ],
   "source": [
    "restaurant_df = pd.read_csv('ichefdata/ichefdata/ichef 資料.csv')\n",
    "info_df = restaurant_df[['店名', '店址']]\n",
    "info_df.rename(columns = {'店名':'name', '店址':'address'}, inplace = True)\n",
    "info_df"
   ]
  },
  {
   "cell_type": "code",
   "execution_count": 3,
   "metadata": {},
   "outputs": [
    {
     "data": {
      "text/html": [
       "<div>\n",
       "<style scoped>\n",
       "    .dataframe tbody tr th:only-of-type {\n",
       "        vertical-align: middle;\n",
       "    }\n",
       "\n",
       "    .dataframe tbody tr th {\n",
       "        vertical-align: top;\n",
       "    }\n",
       "\n",
       "    .dataframe thead th {\n",
       "        text-align: right;\n",
       "    }\n",
       "</style>\n",
       "<table border=\"1\" class=\"dataframe\">\n",
       "  <thead>\n",
       "    <tr style=\"text-align: right;\">\n",
       "      <th></th>\n",
       "      <th>name</th>\n",
       "      <th>address</th>\n",
       "    </tr>\n",
       "  </thead>\n",
       "  <tbody>\n",
       "    <tr>\n",
       "      <th>0</th>\n",
       "      <td>% shabu</td>\n",
       "      <td>桃園市桃園區中埔ㄧ街331號</td>\n",
       "    </tr>\n",
       "    <tr>\n",
       "      <th>1</th>\n",
       "      <td>(停用）喜樂咖啡</td>\n",
       "      <td>台中市西區美村路一段687號2樓</td>\n",
       "    </tr>\n",
       "    <tr>\n",
       "      <th>2</th>\n",
       "      <td>055龍哥斯特</td>\n",
       "      <td>花蓮縣吉安鄉中央路三段458號</td>\n",
       "    </tr>\n",
       "    <tr>\n",
       "      <th>3</th>\n",
       "      <td>0870 Kitchen &amp; Bar</td>\n",
       "      <td>台北市中山區中山北路二段137巷45號</td>\n",
       "    </tr>\n",
       "    <tr>\n",
       "      <th>4</th>\n",
       "      <td>1+咖啡館</td>\n",
       "      <td>高雄市苓雅區永定街91號</td>\n",
       "    </tr>\n",
       "    <tr>\n",
       "      <th>...</th>\n",
       "      <td>...</td>\n",
       "      <td>...</td>\n",
       "    </tr>\n",
       "    <tr>\n",
       "      <th>3783</th>\n",
       "      <td>龍波斯特龍江店</td>\n",
       "      <td>台北市中山區龍江路100巷1號1樓</td>\n",
       "    </tr>\n",
       "    <tr>\n",
       "      <th>3784</th>\n",
       "      <td>龍門馬場洞韓牛燒肉</td>\n",
       "      <td>台中市北屯區軍功路二段185號</td>\n",
       "    </tr>\n",
       "    <tr>\n",
       "      <th>3785</th>\n",
       "      <td>?壹號。拌</td>\n",
       "      <td>台北市信義區永吉路340號1樓</td>\n",
       "    </tr>\n",
       "    <tr>\n",
       "      <th>3786</th>\n",
       "      <td>Ｍr.Health 舒肥廚房</td>\n",
       "      <td>臺中市龍井區台灣大到五段三巷42弄22號</td>\n",
       "    </tr>\n",
       "    <tr>\n",
       "      <th>3787</th>\n",
       "      <td>ＴＡＣＢ</td>\n",
       "      <td>高雄市新興區林森二路135巷35號</td>\n",
       "    </tr>\n",
       "  </tbody>\n",
       "</table>\n",
       "<p>3788 rows × 2 columns</p>\n",
       "</div>"
      ],
      "text/plain": [
       "                    name               address\n",
       "0                % shabu        桃園市桃園區中埔ㄧ街331號\n",
       "1               (停用）喜樂咖啡      台中市西區美村路一段687號2樓\n",
       "2                055龍哥斯特       花蓮縣吉安鄉中央路三段458號\n",
       "3     0870 Kitchen & Bar   台北市中山區中山北路二段137巷45號\n",
       "4                  1+咖啡館          高雄市苓雅區永定街91號\n",
       "...                  ...                   ...\n",
       "3783             龍波斯特龍江店     台北市中山區龍江路100巷1號1樓\n",
       "3784           龍門馬場洞韓牛燒肉       台中市北屯區軍功路二段185號\n",
       "3785               ?壹號。拌       台北市信義區永吉路340號1樓\n",
       "3786      Ｍr.Health 舒肥廚房  臺中市龍井區台灣大到五段三巷42弄22號\n",
       "3787                ＴＡＣＢ     高雄市新興區林森二路135巷35號\n",
       "\n",
       "[3788 rows x 2 columns]"
      ]
     },
     "execution_count": 3,
     "metadata": {},
     "output_type": "execute_result"
    }
   ],
   "source": [
    "info_df = info_df.drop_duplicates().reset_index(drop=True)\n",
    "info_df"
   ]
  },
  {
   "cell_type": "code",
   "execution_count": 4,
   "metadata": {},
   "outputs": [
    {
     "name": "stdout",
     "output_type": "stream",
     "text": [
      "3778\n",
      "3701\n"
     ]
    }
   ],
   "source": [
    "print(len(info_df['name'].unique()))\n",
    "print(len(info_df['address'].unique()))"
   ]
  },
  {
   "cell_type": "code",
   "execution_count": 5,
   "metadata": {},
   "outputs": [
    {
     "data": {
      "text/html": [
       "<div>\n",
       "<style scoped>\n",
       "    .dataframe tbody tr th:only-of-type {\n",
       "        vertical-align: middle;\n",
       "    }\n",
       "\n",
       "    .dataframe tbody tr th {\n",
       "        vertical-align: top;\n",
       "    }\n",
       "\n",
       "    .dataframe thead th {\n",
       "        text-align: right;\n",
       "    }\n",
       "</style>\n",
       "<table border=\"1\" class=\"dataframe\">\n",
       "  <thead>\n",
       "    <tr style=\"text-align: right;\">\n",
       "      <th></th>\n",
       "      <th>address</th>\n",
       "      <th>name</th>\n",
       "    </tr>\n",
       "  </thead>\n",
       "  <tbody>\n",
       "    <tr>\n",
       "      <th>0</th>\n",
       "      <td>0</td>\n",
       "      <td>[NDBC-VN]</td>\n",
       "    </tr>\n",
       "    <tr>\n",
       "      <th>1</th>\n",
       "      <td>100台灣台北市中正區濟南路二段48巷3-2號</td>\n",
       "      <td>[禮面作]</td>\n",
       "    </tr>\n",
       "    <tr>\n",
       "      <th>2</th>\n",
       "      <td>103台灣台北市大同區延平北路一段69巷5號2F</td>\n",
       "      <td>[Retro印刷]</td>\n",
       "    </tr>\n",
       "    <tr>\n",
       "      <th>3</th>\n",
       "      <td>104台北市中山區一江街25號1樓</td>\n",
       "      <td>[parc.c.studio]</td>\n",
       "    </tr>\n",
       "    <tr>\n",
       "      <th>4</th>\n",
       "      <td>104台北市中山區雙城街13巷18號2樓 (平信 18:00開店)</td>\n",
       "      <td>[Ansleep]</td>\n",
       "    </tr>\n",
       "    <tr>\n",
       "      <th>...</th>\n",
       "      <td>...</td>\n",
       "      <td>...</td>\n",
       "    </tr>\n",
       "    <tr>\n",
       "      <th>3695</th>\n",
       "      <td>高雄市鼓山區青海路277號</td>\n",
       "      <td>[BoBo Rose]</td>\n",
       "    </tr>\n",
       "    <tr>\n",
       "      <th>3696</th>\n",
       "      <td>高雄市鼓山區鼓元街57號一樓</td>\n",
       "      <td>[My Cofi 哈瑪星]</td>\n",
       "    </tr>\n",
       "    <tr>\n",
       "      <th>3697</th>\n",
       "      <td>高雄市鼓山區鼓南街30號1樓</td>\n",
       "      <td>[木葉粗食]</td>\n",
       "    </tr>\n",
       "    <tr>\n",
       "      <th>3698</th>\n",
       "      <td>高雄市鼓山區鼓山一路53巷107號</td>\n",
       "      <td>[光悅茶屋]</td>\n",
       "    </tr>\n",
       "    <tr>\n",
       "      <th>3699</th>\n",
       "      <td>龜山區文化2路34巷14弄30號</td>\n",
       "      <td>[米奇林越光米便當]</td>\n",
       "    </tr>\n",
       "  </tbody>\n",
       "</table>\n",
       "<p>3700 rows × 2 columns</p>\n",
       "</div>"
      ],
      "text/plain": [
       "                                address             name\n",
       "0                                     0        [NDBC-VN]\n",
       "1               100台灣台北市中正區濟南路二段48巷3-2號            [禮面作]\n",
       "2              103台灣台北市大同區延平北路一段69巷5號2F        [Retro印刷]\n",
       "3                     104台北市中山區一江街25號1樓  [parc.c.studio]\n",
       "4     104台北市中山區雙城街13巷18號2樓 (平信 18:00開店)        [Ansleep]\n",
       "...                                 ...              ...\n",
       "3695                      高雄市鼓山區青海路277號      [BoBo Rose]\n",
       "3696                     高雄市鼓山區鼓元街57號一樓    [My Cofi 哈瑪星]\n",
       "3697                     高雄市鼓山區鼓南街30號1樓           [木葉粗食]\n",
       "3698                  高雄市鼓山區鼓山一路53巷107號           [光悅茶屋]\n",
       "3699                   龜山區文化2路34巷14弄30號       [米奇林越光米便當]\n",
       "\n",
       "[3700 rows x 2 columns]"
      ]
     },
     "execution_count": 5,
     "metadata": {},
     "output_type": "execute_result"
    }
   ],
   "source": [
    "info = info_df.groupby('address')['name'].apply(list).reset_index(name='name')\n",
    "info"
   ]
  },
  {
   "cell_type": "code",
   "execution_count": 6,
   "metadata": {},
   "outputs": [
    {
     "name": "stdout",
     "output_type": "stream",
     "text": [
      "address    南投縣草屯鎮墩煌路三段168號\n",
      "name          [督賀咖啡, 督賀蔬苑]\n",
      "Name: 72, dtype: object\n",
      "address    台中市北屯區昌平路一段105-12號\n",
      "name            [威霸鍋物, 米可烘焙坊]\n",
      "Name: 180, dtype: object\n",
      "address     台中市北屯區熱河路二段128號\n",
      "name       [憲賣咖啡, 憲賣咖啡(外帶)]\n",
      "Name: 194, dtype: object\n",
      "address                    台中市后里區月眉北路486號\n",
      "name       [星月大地 咖啡廳, 星月大地 售票處, 星月大地 宴會館]\n",
      "Name: 270, dtype: object\n",
      "address                   台中市太平區中山路四段170號\n",
      "name       [漢家園 中山店 第一結帳口, 漢家園 中山店 第二結帳口]\n",
      "Name: 293, dtype: object\n",
      "address       台中市太平區旱溪東路二段330號\n",
      "name       [威霸米可烘培坊, 威霸鍋物(旱溪)]\n",
      "Name: 297, dtype: object\n",
      "address               台中市梧棲區台灣大道十段168號\n",
      "name       [共?Gunglok, 冰見海鮮丼?鮨, 金?製麵處]\n",
      "Name: 316, dtype: object\n",
      "address              台中市西區存中街46號\n",
      "name       [Go?t Bar 好吧, Gubami]\n",
      "Name: 418, dtype: object\n",
      "address               台中市西區民生路368巷4弄14號\n",
      "name       [審計新村-甜月亮, 審計新村-甜月亮手工義大利冰淇淋]\n",
      "Name: 451, dtype: object\n",
      "address       台中市西屯區台灣大道四段1727號\n",
      "name       [東海二餐A, 東海管餐, 東海花餐A]\n",
      "Name: 499, dtype: object\n",
      "address      台中市西屯區國安一路168號1樓\n",
      "name       [宇良食健康鍋物, 赤沐TAIKO]\n",
      "Name: 501, dtype: object\n",
      "address    台中市西屯區國安一路168號2樓\n",
      "name       [名粵軒港式飲茶餐廳, 棗點子]\n",
      "Name: 502, dtype: object\n",
      "address                      台中市西屯區青海路二段316號\n",
      "name       [Dr.Min美齒專家 台中店, Dr.min美齒專家台中青海店]\n",
      "Name: 569, dtype: object\n",
      "address       台中市豐原區豐原大道一段647號\n",
      "name       [Quaplar, 文月國際有限公司]\n",
      "Name: 585, dtype: object\n",
      "address             台北市中山區南京西路14號\n",
      "name       [凱林鐵板燒 南西店, 米凱樂啤酒吧南西店]\n",
      "Name: 681, dtype: object\n",
      "address             台北市中山區樂群三路289號1F\n",
      "name       [樂童樂室內親子遊樂園, 樂童樂室內親子遊樂園2]\n",
      "Name: 742, dtype: object\n",
      "address     台北市中山區民權東路一段72號10樓之3\n",
      "name       [二十五電訊有限公司, 米蘭電通有限公司]\n",
      "Name: 752, dtype: object\n",
      "address                台北市中正區懷寧街39號\n",
      "name       [十三川拉麵 懷寧店, 十三川拉麵 懷寧店B1]\n",
      "Name: 831, dtype: object\n",
      "address              台北市中正區懷寧街98號\n",
      "name       [草山金工 公園店, 草山金工 慶祝咖啡店]\n",
      "Name: 832, dtype: object\n",
      "address     台北市信義區光復南路133號\n",
      "name       [Quickly, 水水日常]\n",
      "Name: 887, dtype: object\n",
      "address    台北市信義區基隆路一段155號12樓之6  1221室\n",
      "name        [?利茶舖 統一時代店, ?利茶? 忠孝Sogo店]\n",
      "Name: 910, dtype: object\n",
      "address             台北市信義區市府路45號4樓\n",
      "name       [Salt & Stone, 倆倆號林口機捷]\n",
      "Name: 916, dtype: object\n",
      "address                        台北市信義區松壽路11號\n",
      "name       [KIEHL'S COFFEE HOUSE A11, 大阪王將]\n",
      "Name: 941, dtype: object\n",
      "address                  台北市信義區松壽路11號B2\n",
      "name       [小紅點新加坡食堂, 糕飛?子工作坊, 雪坊優格A11]\n",
      "Name: 944, dtype: object\n",
      "address                    台北市信義區松壽路12號\n",
      "name       [FujiFlowerATT, SHRIMPPA-信義]\n",
      "Name: 946, dtype: object\n",
      "address                             台北市信義區松高路11號B2\n",
      "name       [108抹茶茶廊 信義誠品店, 凱林鐵板燒 誠品信義店, 宴滿川 信義誠品店]\n",
      "Name: 962, dtype: object\n",
      "address                       台北市信義區松高路16號B2\n",
      "name       [AtFirstBrunch 緣來-松高店, 滷滷味 微風松高店]\n",
      "Name: 966, dtype: object\n",
      "address                    台北市內湖區內湖路2段327號2樓\n",
      "name       [?動咖啡? 三號?, 行動咖啡車 一號車, 行動咖啡車 二號車]\n",
      "Name: 1005, dtype: object\n",
      "address     台北市內湖區民權東路六段208號\n",
      "name       [充實生活廣場, 充實生活廣場2]\n",
      "Name: 1037, dtype: object\n",
      "address    台北市士林區中山北路五段460巷1號\n",
      "name             [官邸食堂, 食堂冰吧]\n",
      "Name: 1153, dtype: object\n",
      "address           台北市士林區文林路269號1樓\n",
      "name       [AZtec, GURU HOUSE 士林]\n",
      "Name: 1199, dtype: object\n",
      "address                     台北市大同區南京西路14號\n",
      "name       [Sweet Josun 誠品南西, 龍波斯特 誠品南西店]\n",
      "Name: 1222, dtype: object\n",
      "address                   台北市大同區承德路一段1號B3\n",
      "name       [凱林鐵板燒京站店, 小樽珈琲 京站店, 港點大師-京站店]\n",
      "Name: 1247, dtype: object\n",
      "address              台北市大同區永樂里\n",
      "name       [B House, ilovebow]\n",
      "Name: 1267, dtype: object\n",
      "address     台北市大安區光復南路290巷66號\n",
      "name       [ESIDE BOND, 酒食廚房]\n",
      "Name: 1351, dtype: object\n",
      "address              台北市大安區大安路一段176巷1號\n",
      "name       [莎瓦迪卡泰國菜, 莎瓦迪卡泰國菜-Sawadica]\n",
      "Name: 1402, dtype: object\n",
      "address    台北市大安區安和路二段83號1樓\n",
      "name             [蘭咖啡, 蘭餐廳]\n",
      "Name: 1436, dtype: object\n",
      "address                              台北市大安區安和路二段92號B1\n",
      "name       [Avenue, Avenue 2, 莫瑞爾有限公司 Somm Fine Wine]\n",
      "Name: 1438, dtype: object\n",
      "address                    台北市大安區延吉街153-5號\n",
      "name       [Coffee For The Future, 爺茶-延吉店]\n",
      "Name: 1459, dtype: object\n",
      "address    台北市大安區敦化南路一段160巷40號\n",
      "name        [COFFEE DPT, 花甜果室]\n",
      "Name: 1531, dtype: object\n",
      "address                   台北市大安區敦化南路一段160巷53號\n",
      "name       [Bar Mood Food Truck, Bar Mood 吧沐]\n",
      "Name: 1534, dtype: object\n",
      "address      台北市大安區敦化南路一段190巷38號\n",
      "name       [Maybe, ZEIT X LINCK]\n",
      "Name: 1546, dtype: object\n",
      "address          台北市大安區濟南路三段31號\n",
      "name       [CHANTZE穿石, 穿石甜點空間坊]\n",
      "Name: 1605, dtype: object\n",
      "address       台北市大安區金華街86號\n",
      "name       [金錦町, 金錦町_金華門市]\n",
      "Name: 1647, dtype: object\n",
      "address                                          台北市松江路7號\n",
      "name       [Continue? Gaming Bar, Continue? Gaming Bar 2]\n",
      "Name: 1861, dtype: object\n",
      "address           台北市萬華區成都路27巷10號3樓\n",
      "name       [展樂國際SYML 1, 展樂國際SYML 2]\n",
      "Name: 1904, dtype: object\n",
      "address                                     台南市佳里區民安里同安寮1-1號\n",
      "name       [彼緹娃藝術蛋糕觀光工廠 2, 彼緹娃藝術蛋糕觀光工廠 3, 彼緹娃藝術蛋糕觀光工廠 4, ...\n",
      "Name: 2029, dtype: object\n",
      "address                                      台南市安平區華平路672巷2號\n",
      "name       [府城汽車客運股份有限公司 -台南雙層觀光巴士 路線一, 府城汽車客運股份有限公司 - ...\n",
      "Name: 2073, dtype: object\n",
      "address           嘉義縣梅山鄉太平村下坑仔5號\n",
      "name       [太平雲梯1, 太平雲梯2, 太平雲梯3]\n",
      "Name: 2220, dtype: object\n",
      "address           宜蘭縣五結鄉利工三路59號2樓\n",
      "name       [鬥陣來七桃-咖啡館, 鬥陣來七桃-服務台]\n",
      "Name: 2256, dtype: object\n",
      "address    宜蘭縣羅東鎮公園路100號(羅東夜市攤販)\n",
      "name             [小春糕渣卜肉, 小春羊肉串]\n",
      "Name: 2289, dtype: object\n",
      "address           彰化縣員林市光明街232號\n",
      "name       [蕃薯市雞腳凍, 蕃薯市雞腳凍 門市部]\n",
      "Name: 2363, dtype: object\n",
      "address              新北市新店區中興路三段1號\n",
      "name       [紅玉滿赤心雞蛋糕-新店家樂福, 許留山新店]\n",
      "Name: 2511, dtype: object\n",
      "address    新北市板橋區館前東路63號\n",
      "name          [品鮮蝦, 箸肉家]\n",
      "Name: 2660, dtype: object\n",
      "address    新北市林口區仁愛路二段29號\n",
      "name         [氧咖啡, 藏斯不私藏]\n",
      "Name: 2663, dtype: object\n",
      "address                      新北市林口區東湖路155號\n",
      "name       [Walk In cafe 2F, Walk in cafe]\n",
      "Name: 2684, dtype: object\n",
      "address    新竹縣竹北市莊敬六街169號\n",
      "name        [優鮮庫純, 優鮮庫純2]\n",
      "Name: 2984, dtype: object\n",
      "address                           桃園市桃園區中正路61號\n",
      "name       [Shrimp Daddy 桃園統領店, iChu愛啾吉拿棒 統領店]\n",
      "Name: 3133, dtype: object\n",
      "address      桃園市桃園區同德十一街45號\n",
      "name       [MINORCODE, MNC]\n",
      "Name: 3151, dtype: object\n",
      "address        桃園市桃園區縣府路222號\n",
      "name       [福山排骨, 福山排骨便當專賣店]\n",
      "Name: 3184, dtype: object\n",
      "address    桃園市龍潭區高原里高原路891號\n",
      "name           [小人國蔣府宴, 鷲山]\n",
      "Name: 3231, dtype: object\n",
      "address                桃園市龜山鄉公西村復興街5號\n",
      "name       [世界豆漿大王 桃園店1, 世界豆漿大王 桃園店2]\n",
      "Name: 3254, dtype: object\n",
      "address                臺中市北區雙十路一段125號\n",
      "name       [不老夢想125號-01, 不老夢想125號-02]\n",
      "Name: 3271, dtype: object\n",
      "address       花蓮縣壽豐鄉國立東華大學多容館\n",
      "name       [風愛廚房, 風愛廚房—花蓮志學店]\n",
      "Name: 3299, dtype: object\n",
      "address         雲林縣古坑鄉湳仔村湳仔49號\n",
      "name       [珍國宴咖啡有限公司, 珍．粉紅城堡]\n",
      "Name: 3377, dtype: object\n",
      "address                        高雄市大樹區和山路198號\n",
      "name       [華一休閒農場入口區, 華一休閒農場小羊區, 華一休閒農場餐飲區]\n",
      "Name: 3499, dtype: object\n",
      "address            高雄市小港區南星路2808號\n",
      "name       [小紅食堂-高字塔旋轉餐廳, 旋轉餐廳2F]\n",
      "Name: 3504, dtype: object\n",
      "address                         高雄市小港區松和路1號\n",
      "name       [雲天咖啡館, 高餐感恩烘焙坊, 高餐藍帶國際教育股份有限公司]\n",
      "Name: 3505, dtype: object\n",
      "address       高雄市左營區富國路420\n",
      "name       [北方拉麵三, 北方拉麵之家]\n",
      "Name: 3524, dtype: object\n",
      "address      高雄市左營區富國路420號\n",
      "name       [北方拉麵之家, 北方拉麵四]\n",
      "Name: 3525, dtype: object\n",
      "address        高雄市左營區重信路557號4樓\n",
      "name       [墨凡有限公司, 墨凡有限公司窗口三]\n",
      "Name: 3545, dtype: object\n",
      "address            高雄市楠梓區壽民路51號\n",
      "name       [小本愛玉 大樹店, 小本愛玉 楠梓店]\n",
      "Name: 3578, dtype: object\n",
      "address            高雄市鳳山區文龍東路182號\n",
      "name       [Mini Bean, minibean2]\n",
      "Name: 3645, dtype: object\n"
     ]
    }
   ],
   "source": [
    "for i in range(info.shape[0]):\n",
    "    if len(info.iloc[i]['name']) > 1:\n",
    "            print(info.iloc[i])"
   ]
  },
  {
   "cell_type": "code",
   "execution_count": 8,
   "metadata": {},
   "outputs": [
    {
     "name": "stdout",
     "output_type": "stream",
     "text": [
      "previous :  dict_keys(['% shabu', '(停用）喜樂咖啡', '055龍哥斯特', '0870 Kitchen & Bar', '1+咖啡館', '1001手作廚房', '101小飯廳', '108抹茶茶廊 Sogo復興店', '108抹茶茶廊 信義誠品店', '11HomeKitchen', '11pasta', '12 Cafe', '13小館', '152番地', '16廚房素食餐廳', '18號餐酒館', '1942美式殺殺鍋', '1942餓棧餐廳', '1975 Antique’s Cafr Tea Room', '1980義大利麵', '1982 de glac?e 法式冰淇淋', '1989K cafe', '19號水岸咖啡館', '2/F義大利麵', '23 PUBLIC', '23 Public Beitou 北投', '247火山咖啡', '28Bakery&coffee', '2S', '2gether', '392cafe', '3DPW祥貿科技企業有限公司', '3Pig韓式燒肉', '44號館手工烘焙咖啡', '45號咖啡', '4F小飯館-淡江店', '50,45 wine', '50,50 Cuisine Fran?aise', '555薑母鴨', '571 street', '58咖啡行館', '5味臭臭鍋 龜山德明店', '612號月光海洋咖啡館', '62早餐屋', '69奇點廚房', '6號咖啡館', '7.2cafe', '70 salon', '8292', '82mm Cafe', '8528 music bar', '87霸氣烤魚火鍋', '88kbbq', '8more 台灣第一家白木耳專賣店', '8more白木耳專賣店 校前店', '8荳輕食', '900度串燒工坊', '923手作甜點', '9527 Sports & Music Bar', '953', 'A Table', 'A&G La Fusione義式餐廳', 'A-bao豐南', 'A.Bistro', 'A1車飾', 'AF火鍋', 'AIYO cafe', 'ALCO BAR', 'ALL DAY ROASTING COMPANY', 'ALLEZ BISTRO', 'AM patisserie et private cuisine', 'AM2', 'AMY’S CUCINA', 'AN Burger', 'APR3初', 'AP艾璞', 'AROMA', 'ASPOON ASPOON 阿本紅蔘咖啡館', 'ASW TEA HOUSE', 'ASYLUM', 'ATM juice', 'AWAKE COFFEE', 'AZtec', 'Aburasoba Shin 油???門店', 'Ademain', 'AgustoChef頂廚易仕', 'Allaboutcaffe', 'Allen apartment', 'Alley181', 'Alley308', 'Amandier Cafe', 'Ambush', 'Amos Cafe', 'Angeli', 'Angle Caf?', 'Aniki', 'Another Brick', 'Another Shot', 'Ansleep', 'Anywhere Cafe & Travel 任意門旅行風咖啡館', 'Apple&Bowa專業美睫代購', 'Arc cafe', 'Asgard Darts Sports Club', 'At Home Cafe 貳 Espresso & Syphon Coffee', 'At ‧ First Brunch 忠孝店', 'AtFirstBrunch 緣來-松高店', 'Atanber', 'Attraction Dr.敦南旗艦專櫃', 'August food Studio', 'Aussie Caf? 澳氏咖啡', 'Avenue', 'Avenue 2', 'B House', 'B Line', 'B&A Bistro奶爸廚房', 'B&G德國農莊TeaBar-微風南京', 'B&G德國農莊TeaBar-桃園統領', 'BCG汽車美容', 'BD  2.0', 'BFLO水牛城', 'BIG畢哥', 'BII COFFEE', 'BISON 野牛原味炭烤牛排 中央直營店', 'BISON 野牛原味碳烤牛排 中原總店', 'BOBOLU', 'BOK5', 'BOK7', 'BONCHu創意鮮果茶飲藝文店', 'BOS', 'BRIDGISAN 橋下大叔', 'BSB', 'BURGER-TIME', 'Baan-Taipei', 'Baker Street', 'Banana Blue 2店', 'Banana Blue coffee', 'BangkokJam泰過熱', 'Bar Home', 'Bar Me / We', 'Bar Mood Food Truck', 'Bar Mood 吧沐', 'Bar 春花', 'BarSip', 'Barbide', 'Barfly', 'Batter man', 'Beard Papa板橋店', 'Beau', 'Bella Spa', 'Belly Daiiy', 'Benefit', 'Birdeye Espresso', 'Bison野牛原味炭烤牛排 龍潭店', 'Bisou Bisou', 'Bits & Bites 嚼嚼', 'Bitzantin', 'BoBo Rose', 'Boom Coffee Roasters', 'BouTeaque', 'Boulangerie Shan Wei 山崴·靖', 'Boulangerie Shan Wei 山崴烘培', 'Bravo F&B', 'Bread Meat & Sweet', 'Bubble Cafe', 'Bullydog布利多', 'Bun Bun 國美店', 'Bungy Jump 笨豬跳 台北店', 'Burger Bus 漢堡巴士', 'Burger Ray 忠孝店', 'Burger Ray新光三越A11店', 'Burger Su美式蔬食漢堡專賣店', 'Burger out', 'C Bistro', 'C.C Work 兆基商務中心', 'C.U捲心菜烏托邦', 'CARES', 'CCstory林場咖啡鬆餅', 'CHANTZE穿石', 'CHARM VILLA', 'CHOOSY GOURMET 啡嚐挑剔', 'CHURROSweet', 'CIBO CAFE', 'CO-SYNC', 'COFFEE AND TEA 士東店', 'COFFEE DPT', 'COFFEE FLAIR', 'COFFEE RUN 古亭總店', 'COFFEE RUN 東門店', 'COMEAN 空覓', 'CONNECT', 'CYCLO仁愛', 'Ca:san烘焙坊', 'CaSa Bar-城堡。家', 'Cafe MUJI A11門市', 'Cafe de Gear', 'Cafe de Gear  萬豪店', 'Cafe 日安，家常', \"Cafe' Banana\", 'Cafe09', 'Cafeholic Coffee & Bar', 'Caffebene海安藝文門市', 'Caf? & Meal MUJI 台中門市', 'Caf? 4 Fun 咖啡趣', 'Caf? Coabana 古巴娜咖啡', 'Caf? Mode木馬', 'Caf? by Juicy Diary', 'Caf? de Allur?薾麓咖啡', 'Caldo Caf? 咖朵咖啡', 'Changex Beer', 'Chateau', \"Chef's Cake and Cafe\", 'ChengJu', 'Chic Chic', 'Chicken Box韓式炸雞', 'Chico', 'Chillax', 'Chillies 淇里思印度餐廳 存中店', 'Chu a ka 划步車親子園區', 'Chuju waffle 雛菊鬆餅', 'Ciao Ciao Cafe', 'Cin Cin Osteria 逸仙店', 'Circle Pasta', 'Circle limited', 'CityTripper', 'Classic x 沸騰', 'Cloud 9 Cafe', 'Cocokara', 'Coffee & Work', 'Coffee Boom', 'Coffee Conscience', 'Coffee For The Future', 'Coffee Stopover', 'Coffee stand by me', 'Coffeeloft-咖啡工寓', 'Coffeeology咖啡學', 'Come here', 'Commons', 'Concept Res.M 沐軒', 'Congrats Cafe', 'Continue? Gaming Bar', 'Continue? Gaming Bar 2', 'Cook Table 料理桌日式洋食館', 'Copper & Co. caf?', 'CornerGreen Cafe', 'Corridor Cafe', 'Costumice Caf?', 'Cousins Maine Lobster 墾丁店', 'Cousins Maine Lobster 餐車', 'Crafted-Zhishan', 'Cyclo1號店 忠孝門市', 'D town', 'DAYLILY', 'DEESCO', 'Caturday 養貓人家', 'Chill', 'Chinese Whispers', 'Cmykgallery', 'Coffee VA', 'DA ANTONIO', 'DG Cafe', 'DM Cafe 青海店', 'DOBBY 多比手工甜點', 'DR.INK 勝利店', 'DYC打咖啡新營家樂福門市', 'DaPRO', 'Daddy Du’s Kitchen', 'Daisy Cafe', 'Daylight光合箱子 南京店', 'De Place', 'Depth 紳度訂製', 'Diamond美甲美睫', 'Dig in', 'Dishes好盤美味廚房', 'Dor,留手工義大利麵-巨蛋店', 'Dor留手工義大利麵（駁二店）', 'DOMANI', 'Daylight光合箱子東門店', 'Dor留手工義大利麵（台南友愛店）', 'Double R garcon', 'DoubleV', 'Dr.Min 美齒專家 桃園中正店', 'Dr.Min美齒專家 台中店', 'Dr.min 美齒專家 高雄店', 'Dr.min美齒專家台中青海店', 'Dream On', 'Dry Salon', 'Dyc打咖啡', 'E&T寵物SPA', 'EASYPUB', 'EMMAUS 以馬忤斯鄉村烘培歐式料理', 'ENTER SPACE', 'ESIDE BOND', 'Eat plus 玩食家', 'Eatfoodie', 'Echo Bistro', \"Emma's cafe\", 'Ephernite Restaurant', \"Erich&Kelley's Storyhouse Cafe\", 'FACTORY 共嚐美式料理坊', 'FAIRY', 'FASHION WEEKEND CAF?', 'FIVE FLAVOR', \"FLIPPER'S\", 'FUNNY MAMA', 'FabCafe Taipei', 'Feliz廚坊', 'Fersonal男性形象顧問 新竹店', 'FiMi後山小廚房', 'Fiesta Restaurant & Live House', 'Fiesta restaurant & bar', 'Flavor of India 品·印度', 'Floating Cotton 手作甜點', 'Flux 富樂市', 'Fl?gel studio', 'Follow Eddie', 'Foodie Life 我們的吃貨人生', 'Footer新埔店', 'Formozza Bar', 'Forries忘憂', 'Forro caf?', 'French Window 台北店', 'Fresh Day新鮮日早午餐', 'FriendyPizzeria', 'Fruit Rock  搖滾水果坊', 'Fruit Rock 搖滾水果坊', 'FujiFlowerATT', 'Fujiflower shabu-shabu', 'Fun Life', 'FunKing 北門店', 'FunKing 青年店', 'Fun輕鬆', 'G Log Cafe', 'G.C. Bruncher', 'G1莊園咖啡', 'G2 PARADISE', 'GABEE', 'GAKU', 'GATHERY私廚', 'GINO PIZZA板橋三重店', 'GLTB Cafe', 'GODIVA', 'GOGIGOGI韓式燒烤', 'GOHAN 御飯食事?', 'GOTCHA BBQ', 'GUNG LOK', 'GURU HOUSE 中山店', 'GURU HOUSE 士林', 'GURU HOUSE 西門', 'GYUU NIKU', 'Gelato Pique Cafe', 'GiLiGiLi KoreaFood', 'GinGin Coffee Company', 'GoChabar', 'Gooca咕咖', 'Good Life 愛 好食', 'Good day 穀德', 'Goodness Bistro 上善若水小酒館', 'Gopark 卡丁樂園', 'Go?t Bar 好吧', 'Grace by Petros', 'Gravity', 'Green Cherry Coffee 綠櫻桃咖啡', 'Green Chili 綠辣椒火鍋', 'Green Wave 格林威咖啡', 'Grow Life 靠過來', 'Gubami', 'GumGum', 'Guru House 仁愛店', 'Guten Morgen', 'Guyot居有酒', 'G?n Creative', 'H&D客家小館', 'HAKKAFE', 'HALO cafe', 'HAUSINC CAFE', 'HEXA', 'HH冰室', 'HOLA SURF BOUTIQUE', 'HUN  混貳店', 'Hala Chicken 內湖旗艦店', 'HalaChicken  內湖店', 'Half-Time美式早午餐', 'Halla', 'Hall?', 'HangOut', 'Haowayi', 'Harbor 93', 'Herban', 'Hestia TapasBar 西班牙小酒館', 'High Five Cafe', 'Hochunchen', 'Holo+FACE', 'Home Curry', 'Home.焙實驗所', 'Homerun Roasters', 'Homiessoftbar', 'HonboFoodCar', 'HoneyWood Cafe', 'Hot Cakes', 'House Go In 走進屋子裡', 'Hoyo Caf?', 'Hoyumi Cafe', 'Hubox DIY手創館', 'Huge有趣屋', 'Huichi 湯圓', 'Hurray', 'Husky車體美容', 'I-La', 'IKON', 'IL GIARDINO', 'IN BAR', 'IN BAR Kaohsiung', 'IRIS I.E.R. Co. Ltd.', 'ISM 主義甜時', 'ISM主義甜時 忠孝店', 'Ice Mountain冰山', 'ImPerfect Cafe', 'In Natural Coffee', 'In Stock 飲食客', 'Ina coffee', \"Isabella's Cafe\", \"It's Fruit Time\", 'Izumi', 'Izumi Curry 京站店', 'J caf?', 'J&R義法', 'J.S. FOODIES TOKYO', 'J.S. FOODIES TOKYO 三井台中港店', 'JAI 宅', 'JA火鍋（佳火鍋）', \"JC's Bistro 法式餐酒館\", 'JE ( 原店名 A Community )', 'JUICE DETOUR', 'JUICEIN', 'Jamling Caf? 台北店', 'Jamling cafe 台中店(金典)', 'Joe’s Cafe', 'Joker Bar', 'Juice Clinic', 'K HOUSE MUSIC BAR', 'K.Fika', 'KAMA釜日式丼飯專門店', 'KATZ 3', 'HUN 混', 'Ju Shi Yuan 聚食苑', 'Just in bakery', 'KAT FITNESS', 'KAWAN SPICE KITCHEN', 'Honor', \"KIEHL'S COFFEE HOUSE A11\", 'KIKERIKI BIER', 'KINO KINO CAFE', 'KIRABASE', 'KOHI', 'KOYAMA BLEU', 'KPLUS', 'KR', 'KUMO 雲朵鬆餅', 'KYOYA', 'Kahurangi caf?', \"Kan's Kitchen\", 'Kao!Inc', 'Katz', \"Ken's kitchen\", 'Kenfood', 'KiOSK', 'Kila Kila Premium', 'Kila Kila x Fiole', 'Kingmauii Coffee', 'KnightBistro', 'KoD?和牛燒肉', 'Kremz', 'K咖啡', \"L'id?e Caf? 樂點咖啡\", 'L.S & Co. Coffee 來試咖啡', 'L.Z.無框架甜點', 'LALA Kitchen 新美式餐廳 中央店', 'LALA Kitchen 新美式餐廳 交大店', 'LALA Kitchen 新美式餐廳 新竹科園店', 'LAgOm拉革姆啡社', 'LEAVE ROOM', 'LEFT 左派', 'LOST真人密室逃脫【桃園中華店】', 'LR Cafe', 'LR Cafe 瑞芳園區', \"LUKE'S LOBSTER 微風本館\", 'La Bello', 'La Casa', 'La Chaudi?re Coffee', 'La Crescenta Coffee Company', 'La Facette 酒窩', 'La Pizza', 'La Republica', 'Lab Cafe&Kitchen', 'Lab Library', 'Lab146', 'Lab遠百', 'Lab駁二店', 'Lady M 光復店', 'Lazy pig sandwich', 'Le Blanc', 'Le Chic 樂序', 'Le Monde Entier', 'Le Souffle', 'Kinston', 'Kokorolia心物語', 'Lady M 晶華店', 'Le partage', \"LeeLi's\", 'Leo Detailing', 'Libido Wine Gallery', 'LightBeamCoffeeRoasters', 'LegendFun', 'Lightened', \"Lilian's House\", \"Lingo's\", 'Liquid bread company', 'Little Cha', 'Lo-Kai手作·烘焙趣', 'LoFi Bistro', 'Lofting coffee', 'Long Bar', 'Long Light Bar', 'LongLight Lounge', 'Loop圈圈', 'Lost in NEMEA', 'Ludique Cr?me調皮奶油', 'L?GOS COFFEE', 'M PAIN Boulangerie & p?tisserie', 'M&F深法廚房', 'M&Y caf?', 'MAD', 'MADE MAN', 'MAGMA 美格瑪起司塔專賣店', 'MAGMA熔岩起司塔虎尾店', 'MANNA韓式烤肉專門店', 'MARCUS老倉庫', 'MARO 義式冰淇淋', 'MASIDA韓食堂', 'MAVEN', 'MEAT TIME 歐式羅馬料理', 'MEGA梅角', 'MG CAFE', 'MINORCODE', 'MNC', 'MOBE‘s Kitchen', 'MOT CAFE 美術館店', 'MOT CAF?新富市場店', 'MOZI', 'MR.DODO豆豆先生自家烘焙咖啡館', 'MR.LUNCH', 'MUG PiZZA', 'MUI MUI', 'MUJI Cafe & Meal 台南門市', 'MUME', 'Ma C So Yo', 'Ma C So Yo 築夢韓食', 'Machi Doggie Coffee', 'MadGod瘋狗飛鏢酒吧', 'Magiko魔兔', \"Magpie Caf'e\", 'Maika卷卷庵', 'Mamaday', 'March?s', 'Matches', 'Matter', 'Maybe', 'Maybe cafe', 'MeTime', 'Meander 1948', 'Merci cafe', 'Mi Cazuela 移動的鍋子', 'Midair Kitchen', 'Middle23', 'Miga kitchen pasta', 'Milky Cookie', 'Mills Cafe Bistro', 'Mimado咖啡', 'Mimique 秘密客', 'Ming’s Coffee Playroom 瞇瞇眼自家烘焙咖啡館', 'Mini Bean', 'Minime', 'Miss V bakery', 'Miss V 敦北店', 'MoTai膜鈦專業車體鍍膜', 'Mocktini', 'Moda Vita', 'Modism 松江南京', 'Mon Marche', 'Monga161', 'Monotone Restaurant & Bar 醺的餐酒', 'Moose A Maze 麋鹿 ? 迷路', 'Morni 大甲店', 'Morni 太平店', 'Morni 彰南店', 'Morni 彰泰店', 'Morni 糖友店', 'Morni 西屯店', 'Morni 西門店', 'Morning Go Breakfast&Lunch', 'Morning熊', 'Mountain House 山房', 'Mountain Kids Coffee Roasters', 'Mr & Ms Burger', 'Mr. Big', 'Mr. Butter Caf? 奶油先生', 'Mr. 雪腐', 'Mr.Moon月亮先生', 'Mr.Punch 日常餐盒', 'Mr.Tantuni', 'Mr.k 餐酒館', 'Mrs. Thai 這味泰泰 統一時代店', 'Muko brunch', 'Munchies Gastropub', 'Munchies cafe', 'Musee Kitchen & Ba', 'My Cofi 哈瑪星', 'My Plate', 'My cofi', 'N.N.Thai Thai', 'NASO 拿手咖啡', 'NDBC-VN', 'NEMO CAFE', 'NKU', 'NOIR coffee&bistro', 'NVUN.聯合國國際精品咖啡', 'Naked Bistro 裸餐酒', 'Nargis Taiwan', \"Naughty Nuri's 刁廚紐利\", 'Neighbors', 'Neko Cafe', 'Nep. Lounge Bar', 'Nest三十八番', 'Nest餐廳酒吧', 'Newdays', 'NiceBay尼斯灣海洋景觀餐廳', 'No.20', 'No.6 Corner 六號角落', 'Nola 世貿店', 'Nola 台中崇德店', 'Nola 林森店', 'Nonna Viya', 'Nuage ????雲朵鬆餅', 'O steak', 'OEC食事處', 'OM TAIPEI', 'OMI', 'ONCE', 'OPP披薩餐飲會館', 'OUTING CAF? & BAR', 'OZ cafe & bistro', 'Oct.20 Kitchen life', 'Old Brick', 'Old rattan coffee 荖藤咖啡', 'Ole tapas', 'Oli', 'OnOnNature', 'Once Again Cafe', 'Oni Kitchen', 'Ooh Cha Cha和平店', 'Oohchacha', 'Organo', 'Overture', 'P&T', 'PACINI 派奇尼', 'PACKIE', 'PAMMA COFFEE 泮咖啡', 'PANTHER黑豹美式餐廳', 'PARTY O', 'PASTA WEST EAST', 'PE9', \"PIE PAI Cafe'\", 'PIZZARELLA', 'PLAY Hotel', 'PLUTO', 'POLAR CAFE', 'PaPa Rice義式燉飯專賣店', 'Paella Bistro西班牙烤飯餐酒館', 'Panda.26', 'Panda.26 店面', 'Paperstreet', \"Papo'A Coffee\", 'Paradise', 'Party Party Cafe', 'PawCafe', 'Pelicana百力佳納韓式炸雞店', 'Petros2', 'Phoenix Dart 旗艦北市東區21店', 'Phoenix Dart旗艦新北板橋14店', \"Piepai Cafe' 桃園店\", 'PiiK挑食?物', 'Pizza CreAfe’客意直火比薩.烤雞 內科店', 'Pizza CreAfe’客意直火比薩.烤雞 民權店', 'Pizza Perse', 'Plan B', 'Pleasure Time 樂食厚', 'PokerKing', 'Ponpie澎派', 'Popoke', 'Poppy waffle 中壢店', 'Poppy文心店', 'Powder Workshop', 'Power beef', 'Project01', 'Provider', 'Pstapas 統一時代台北店', 'Puchi loft', 'Pun', 'Puro Puro 璞海鮮', 'Puzzle Cuisine', 'QNight', 'QUAY', 'Quality', 'Quaplar', 'Quickly', 'Quite b. Days 靠北過日子', 'Q哥咖啡', 'R&D Cocktail Lab', 'R5小餐館', 'RISO RISO 里頌地中海餐酒館', 'RITROVARE COFFEE 尋品·旬品咖啡', 'RL', 'ROLA I COFFEE', 'ROZZ', 'RULER BAR', 'Ratio Coffee', 'Re', 'Red Circle 舌口餐酒沙龍', 'RedPoint 紅點桌邊飲', 'Redness coffee', 'Relax餐廳', 'Remember Me 記得我 咖啡', 'Resort Brew Coffee Co.', 'Restaurant Go.老吳的西洋料理', 'Retro Mojo Coffee', 'Retro印刷', 'Ricordoz', 'Rio Loco', 'Rochi Garden', 'Rocks Coffee', 'Rollin滾滾美式餐廳', 'Ros? CLUB', 'RouRou肉肉', 'Roundabout Cafe', 'Roux Taipei', 'Rr-do-ga異燒工坊', 'R·U COFFEE', 'S.R.T 冷藏 熟成 鮮燒肉', 'SEASON Artisan P?tissier', 'SHMILY cafe', 'SHRIMPPA-信義', 'SHRIMPPA-台中', 'SISBRO希絲柏甜食所', 'SOL bistro', 'SOL studio', 'SOSO CAFE', 'SPOT', 'SPROUT', 'STAND COLLECTION HOME', 'STAYREAL CAFE MINI', 'SUCRE法葵', 'SUNRISE晨光早餐', 'SUP Yoga Taiwan', 'Sababa', 'Sagaton', 'Sailboat store', 'Saladay 南京店', 'Salala', 'Salt & Stone', 'Salt & pepper 胡椒鹽牛排', 'Sam Coffee', 'Sauga X ArtHouse', 'Seafood&Meat', 'See time tea', 'Selfish Burger喀漢堡  世貿店', 'Selfish burger 喀漢堡 板橋大遠百店', 'Settled Cafe', 'Shamon法式甜點', 'Shavurg', 'Shiangers 香爵', 'Shihtou', 'Shrimp Daddy', 'Shrimp Daddy 桃園統領店', 'Shumann’s Bistro No. 6    舒曼六號餐館', 'Siang Hao Patisserie', 'Skyline Cafe 天際線景觀咖啡', 'Smile Caf?', 'SnowFlake', 'So Free Pizza台大店', 'So Free西門店', 'Sol Wow 蔬食早午餐', 'Sol cafe', 'Solo Pizza', 'Soma敦南店', 'Sot Cafe 路角店', 'Sot cafe 浮島店', 'Soulga', 'Soupstar The Kitchen', 'Sp Accessory', 'Sparadise 水天堂', 'Staff Only', 'Stage 5', 'Steam Eden', 'Stovepasta', 'Sundoya大里店', 'Svart Hull', 'Sweet Josun 京站', 'Sweet Josun 微風南京', 'Sweet Josun 誠品南西', 'Sweet tooth', 'Swell Co. CAFE', 'S三次方', 'T-PARK', 'T1 cafe', 'TAEBAK', 'TAEBAK 南京店', 'TAKE A BITE', 'TAPPO', 'TA汽車美容', 'TFL 淬鍊體能 信義訓練教室', 'TFL 淬鍊體能 忠孝訓練中心', 'THE FOLKS', 'THE FORG PRINCE', 'THE SHRINE', 'THE WORKSHOP', 'TNT美式炭烤牛排-中和店', 'TO.GATHER', 'TOM&MAGGY 幸福肥', 'TORA tart', 'TT SPORTS', 'TaTa', 'Tabeyakiniku', 'Table 113', 'Taco Monkeys球場店', 'Tamp Temper', 'Tas’s土耳其餐廳', 'Tea Box 旅人洋行 斗六門市', 'Ten Past Ten咖啡豆專賣店', 'Ten Ten Den Den 好初三店', 'Terminal One', 'The 41 Bistro', 'The 58 Bar', 'The Chips板橋車站店', 'The Factory - mojocoffee', 'The Good Mood Cafe', 'The HUB', 'The Moment', 'The Mood16', 'The New Days', 'The S Cuizing', 'The caffeine 咖啡癮', 'The chips南港店', 'The malt', 'The shed', 'Think Kitchen', 'Three Leafs Tea', 'Tian Cafe', 'Tiecafe', 'Tierra Casa Restaurant', 'Tina阿姨義麵屋', 'Tinytime cafe', 'Totsuzen Steak', 'Touching', 'Trading Room', 'Trattoria del CHA CHA 人帥真好三明治輕食', 'Trio 三重奏義式蔬食餐廳', 'Troublemaker搗蛋鬼手工鬆餅', 'Truffles Living 舒服生活', 'Tulloch Foods', 'Turning table', 'Twinkeyz Tacos', 'Twinkeyztacos', 'Tzubi', 'UFO Cafe', 'UNCLE', 'UNCLE SHAWN BBQ DINING BAR', 'UNO市集    Cousins Maine Lobster', 'URBN Culture', \"Uccello Cafe'\", 'Uncle Toby Bakery ．安可淘比', 'Urban Project', 'UrbanMonsterHouse城市怪獸', 'V+ing', 'VCE 南西店', 'VEGE CREEK蔬河', 'VG ENCORE', 'VG Seafood Bar', 'VIGHT', 'VIVACE', 'VK咖哩', 'VR+台中逢甲', 'VR+新光店', 'VWI BY CHADWANG', 'Veganday Cuisine', 'Vino Fiore 花之最', 'Vivre琲隱', 'W Kitchen 東港店', 'W.papa', 'W9 Bottle Shop', 'WAKAKUSA', 'WEEE美術館店', 'WIRED TOKYO台中市政店', 'WJ kitchen', 'WOODY I LOVE YOU', 'WOOW House', 'WUnique patisserie', 'Waiting Bistro', 'Wake up 起床', 'Walk In cafe 2F', 'Walk in cafe', 'Want More', \"Wen's Coffee\", 'Whippin Paradise 威品車體防護', 'White Kitchen懷特廚房素食無國界料理', 'WhyWhy壞壞', 'Wicked Wolfpack', 'Wine Caf?', 'Wonder bar & lounge', 'Wonderful Resorts', 'Woo Taiwan', 'Woodid??', 'Woopen木盆-勝利加盟門市', 'Woopen木盆-台南文化加盟門市', 'Woopen木盆-大昌加盟門市', 'Woopen木盆-巨蛋門市', 'Woopen木盆-後昌加盟門市', 'Woopen木盆-文化創始門市', 'Woopen木盆-文山旗艦門市', 'Woopen木盆-民權加盟門市', 'Woopen木盆-河堤門市', 'Woopen木盆-重愛加盟門市', 'Work Shop', 'XIXI Tea Moments', 'XO ShabuShabu', 'XOXO Bistro', 'YATS 葉子', 'YEAH!', 'YELO', 'YH CAFE', 'YUME Cafe De Galerie', 'YUM?2.00', 'Yellow Lemon', 'Yoloniku肉你好', 'Yoshi燒肉', 'Yuhsiwu 有喜屋', 'ZAC ZAG 一樂炸雞', 'ZEIT X LINCK', 'Zebra Apartment Cafe 斑馬公寓咖啡', 'Zoom in', '[問卦]', 'alston冰泰酥', 'boven cafe', 'burgertime', 'c25度咖啡館', \"cafe'32\", 'cafelulu 大墩店', 'cafeyumiko', 'cake wei創意烘焙', 'cheng&mach', 'chez fen', 'chudochudo小餐館', 'citywash', 'corner in', 'cura pizza', 'd.maisie cafe大安店', 'dezato', 'dialog', 'double L', 'dreams 夢想小茶館', 'd?Night', 'fierycafe 火熱咖啡', 'fleet street', 'funsiamo  台北京站店', 'funsiamo  台北光復店', 'gelato pique cafe creperie 台中中港店', 'go gym', 'gritmojocoffee', 'herbs', \"hi, 日楞 Ryou Caf'e\", 'hui cafe', 'i love bow 敦化店', 'iChu愛啾吉拿棒 夢時代店', 'iChu愛啾吉拿棒 統領店', 'iQOS台北快速維修站', 'ice more', 'iki', 'illuminate coffee', 'ilovebow', 'ins cafe', 'in墅館', 'it Space 一起空間', 'ivette', \"ivy's house life\", 'kichi', 'le love', 'logy', 'mass cafe', 'meat up', 'metro caf?', 'middlename', 'minibean2', 'monkey pizza 大里店', 'mrcheekopitiam', 'mucho happiness', 'ndbc', 'njuTurn Cafe', 'nu studio', 'obbaya炸雞店', 'ojiisan', 'omocaf? 天母店', 'parc.c.studio', 'pass咖啡', 'pokepoke', 'potti&potti', 'saladay SOGO店', 'sheep+pony', 'shiro cafe', 'simtea 夏牧日出', 'stunnerbar', 'sweet maker', \"t'win coffee\", 'tame moose(kinfolk 2店)', 'the NORMAL', 'the TOAST', 'the kaffa lovers', 'the sandrich house', 'the villa', 'tigerlily', 'uMeal 優膳糧', 'understand', 'uno burger', 'update breakfast', 'wa shu和酒', 'we&me', 'with me', 'woohoo', 'wooli cafe', 'zhangmankw2', '?me aura 艾默菈', '?動咖啡? 三號?', '《扶風堂 民生廚房》披薩。義麵。吉拉朵', '??-YORU', 'ㄎㄠ一杯', 'ㄚMAN早午餐', '?肉舖PANKOKO ‧燒肉專門店', '?品軒 新光店', '?品軒 開封店', '一中佳姿豆乳雞', '一串 Yakitori', '一丸老麵', '一九實府', '一事製?', '一修大師', '一個炙', '一八一烘焙屋', '一味 和牛御膳', '一品堂精緻涮涮鍋', '一品排骨酥湯', '一奉堂', '一家人', '一帆布包', '一彤麻辣鴛鴦涮涮屋', '一心堂燒肉', '一所懸命 小料理', '一方酒業', '一杯的回憶', '一森鍋物', '一涓白杏仁甜品', '一燔', '一燔 炸雞/咖哩蛋包飯', '一番', '一百種味道', '一目文創', '一碗來', '一碗牛肉麵', '一線牽 Chance Cafe', '一起找晨 景賢店', '一起早餐吧', '一送一蛋糕_頂溪店', '一送一蛋糕店', '一郎愛美麗有限公司', '一鋒杭', '一鍋賞', '一間印刷行', '丁山肉丸', '七天四季', '七年級安樂店', '七年級暖暖店', '七海鍋物', '三兄弟豆花', '三全美食坊', '三勝綠能股份有限公司', '三勝綠能股份有限公司（淡水門市）', '三十八番日式家庭料理', '三千子', '三味糖餅', '三媽臭臭鍋 莿桐店', '三寶飯惦', '三峽麗媽北大店', '三徑就荒', '三拾堂', '三方圓', '三木吉茶', '三義野百合開心花園蔬食咖啡', '三葉冰 ICE TREE', '三藹走廊手工甜點', '三角咖啡館', '三隻小兔義式冰淇淋', '上善豆家', '上官木桶鍋-三鶯店', '上官木桶鍋桃園加盟店', '上官木桶鍋高雄裕誠加盟店', '上青攬月 MoonStruck Tea & Dining', '上非雅', '不二茶舖', '不來梅Bremen', '不分 手作料理', '不想回家', '不老夢想125號-01', '不老夢想125號-02', '不設限 酒食貳店', '不設限食飲空間', '不識紅豆餅 誠品生活駁二店', '不貳光車輪餅', '不貳光車輪餅延吉店', '不醉居酒屋', '世代歐陸西餐廳', '世代街區 同安樂', '世代街區 市井小酒場', '世界豆漿大王 桃園店1', '世界豆漿大王 桃園店2', '?龍團', '中中親子', '中原燒臘-中原店', '中山茶書院', '中?帝苑社區', '中港牛肉麵', '丰富食堂', '丰明小鍋芝山店', '串世紀', '串場居酒屋 忠孝店', '串好日式料理', '串川串', '丸太拉麵 工學店', '丸太拉麵 益民店', '丸子廚房', '丸子手作茶館', '丸角自轉生活咖啡', '丸豐食堂', '丹尼先生自己喝茶飲', '丹尼早午餐', '丹醇美廚', '丹麥之屋', '丼好食', '久御賞手作茶飲', '久田', '乙支路商行', '九寨精緻麵食', '九尾韓國豆腐煲 內湖店', '九州純冰?????屋', '九月咖啡館', '二十五電訊有限公司', '二吉軒豆乳-關渡華碩店', '二吉軒豆乳-麗水店', '二條通綠島小夜曲', '五方食藏生活文化股份有限公司 Take Five', '五星級美食坊', '五月雪客家私房珍釀堂', '五木咖啡店', '五目坊 花壇旗艦店', '五目坊 高雄巨蛋店', '五目坊崇德店', '五福小館', '五金咖啡', '亞曼達索維拉餐廳', '亞熱帶松機華香', '亨利貞精品咖啡館', '亨祥咖啡廳', '享一點心工作室', '享坐海鮮直烤', '享巷咖啡館', '享鍋酒館', '享麵館', '京之最陽明山店', '京東燒肉', '京湛咖啡店', '京澤苑', '京焱鐵板燒', '京軒黃金燒?餃子', '京都苑', '京都苑-家樂福屏東店', '京都苑台南遠百成功店', '京都苑高雄夢時代店', '京都苑鼎山店', '人間 Ningen', '什麼魚', '仁里居', '今天吃什麼', '仙草黑太', '代代木鍋物', '令和鍋物', '以南屋蔬食料理', '伊凡的花園創意蔬食', '伊甸園手作茶飲', '伊立斯女僕咖啡 Iris Maid Cafe', '伊莉莎咖啡館', '伊麵食堂', '伍伍零咖啡', '伍巷', '伍梗商號', '伍麥烘焙坊', '休習日', '伴天聊露營區', '伽哩咖哩', '佃關東煮（ 原店名 玄拉麵 ）', '佈達咖啡', '佐佐義 義大利麵高鐵店', '佐佐義裕誠店', '佐藤精肉店shida', '佐藤養助', '何荷菩提SPA養身會館', '余韻日本料理', '佛斯特旺餐酒館', '你後面咖啡廳', '你的關東煮專賣店', '佳佳甜品', '佳珍海產餐廳', '來一碗', '來一碗廣東粥', '來吃咖哩', '來吧 light bar', '來塊披薩專門店', '來我家吃披薩', '來麵室', '信基泰式廚房', '?吆久貨櫃景觀餐廳', '倆倆號 南京慶城店', '倆倆號 南港中信店', '倆倆號 台北站前店', '倆倆號 微風台大店', '倆倆號 林口長庚店', '倆倆號林口機捷', '倍速運動', '偉恩市場', '健康原木咖啡館', '健康宅急店', '健康煮', '傑克牛排 石牌本舖', '傳承紅豆餅 - 員林店', '傳統美食玉里麵', '傻子漢堡', '優鮮庫純', '優鮮庫純2', '允鑽餐飲店', '元民食堂', '元氣咖哩 大遠百店', '元氣日式洋食', '元氣果汁 - 高雄店', '元氣果汁台南總部', '元氣?舖', '充實生活廣場', '充實生活廣場2', '兆均食品有限公司', '先生小姐餐飲有限公司', '光世代科技有限公司', '光光盒餐', '光合箱子_信義誠品店', '光悅茶屋', '光景 Scene Coffee', '光癮', '光點工坊', '八寶家', '八寶閣御廚房', '八拾捌茶輪番所', '八方汕頭火鍋', '八方盈精燉牛肉麵', '八方鮮商行', '八方鳩', '八蒔鐵板燒', '八野?鮮涮鍋', '公主義大利麵餐廳', '公家酒吧', '公爵的廚房', '公益麵攤（向上店）', '公館卜乘輕食滷味', '六九火鍋', '六兆雞排豐原創始店', '六合餐飲', '六品小館  敦仁店', '六品小館 內湖店', '六日甜點專賣店', '共好親子餐廳', '共?Gunglok', '其實豆製所', '典藏33觀景餐廳', '典藏咖啡北教大店', '典藏咖啡館府中15店', '典藏駁二餐廳', '兼六和風堂', '冉冉', '冠閣大飯店 GLOUNGE', '冪咖啡', '冰燕綿綿冰', '冰見海鮮丼?鮨', '凡人居', '凡可橙有限公司', '凱林鐵板燒 信義威秀店', '凱林鐵板燒 南西店', '凱林鐵板燒 誠品信義店', '凱林鐵板燒101店', '凱林鐵板燒京站店', '凱林鐵板燒八德店', '凱林鐵板燒汐止店', '凱莉餐廳', '凱西品飲室', '出境咖啡', '出爐中的小巴黎', '出軌咖自家烘焙咖啡館', '刈便當', '初 HATSU 肕燒肉', '初sushi', '初一拉麵&煎餃', '初丼-義大店', '初二早餐', '初宅', '初次約會', '初衷', '初衷小鹿', '初訪', '別所', '別緻咖啡', '利客滿', '前味火烤', '創淨科技股份有限公司', '劉妹鍋燒意麵  鹽行店', '加做食艷室-夢時代店', '加減成廚', '加賀全', '動物誌', '務本堂養身會館', '勝味丼  桃園市府店', '包子日誌企業社', '北北車魯肉飯', '北安町居酒屋', '北平半畝園餐廳', '北方拉麵三', '北方拉麵之家', '北方拉麵四', '北方雪拉麵之家', '北港保生堂', '北香便當新竹光復店', '北魂日式居酒屋', '匠藝生活有限公司', '匠達人創作料理', '匯通商務中心', '匿境（incognito cafe)', '十三川拉麵 公園店', '十三川拉麵 懷寧店', '十三川拉麵 懷寧店B1', '十二粥', '十年麵包', '十方長', '千璽鐵板燒', '千雲', '半分屋敷', '半月燒一中店', '半熟堂', '半畝院子1F', '半畝院子2F', '卓也小屋 Fusion Dining', '卓也小屋藍庄咖啡館', '南方琉璃小舖', '南朝鮮韓式料理專賣店', '南海16', '南王化工總店', '南美咖啡', '南西誠品食習', '南香排骨飯', '卡司 內科店', '卡沛諾意式餐酒館', '卡索里拉', '印度香料屋', '卷卷蛋糕RollBakery', '厚舖涮涮鍋', '厚道飲食店', '厝邊 Next Door Caf?', '原宿廚房', '原粹蔬食作', '原蔬', '原麥森林', '?匠居酒屋', '?拾捌號咖啡店', '?食咖啡', '參號食堂', '又上全食', '??咖啡', '??咖啡中科店', '?食早午餐', '古8咖啡', '古亭四渣', '古城海鮮鴛鴦麻辣鍋', '古早味土雞城', '古早飯堂', '古月新城複合式餐館', '只有牛', '可利亞', '可喜空間', '可愛家便當店', '可艾比咖啡餐館', '台sopar餐酒館', '台中大遠百沛納海專櫃', '台中輪胎館股份有限公司', '台北酒驛', '台南-仁泉-善化中山店', '台南-仁泉-新營店', '台南-仁泉-歸仁店', '台南-仁泉-民生店', '台南-仁泉-永康正強店', '台南-仁泉-永康民族店', '台南-仁泉-金華', '台南凱西雪茄館', '台大國際華語研習所', '台大農場愛玉坊', '台灣安亞生物科技股份有限公司忠孝店', '台灣牧場展銷中心', '台灣諾得有限公司', '台生號', '史塔克', '史記精緻鴛鴦鍋 安和涮涮屋', '史記鴛鴦麻辣火鍋店', '吃光cacti', '吃吃便當', '吃肉', '吃飯吧 手作鮮食便當', '吃飽just eat', '合十屋', '合興壹玖肆柒', '合興壹玖肆柒 萬華門市', '吉利恩典古早味蛋糕', '吉利食堂', '吉恩商行', '吉悅酒窖餐廳', '吉棧素食', '同廚', '同德素食', '名粵軒港式飲茶餐廳', '名緹', '向陽咖啡店', '吳媽媽沙茶咖哩炒麵', '吾?咖啡', '吾妹', '周家涼麵', '味?????世代', '味之初古早味現烤蛋糕', '味南天', '味見食卓', '味鼎傳統早餐', '呼穀壽喜燒', '和-Nagomi  Dining & BAR', '和之居居酒屋', '和口田鍋物', '和屋食藝有限公司', '和慶', '和日方常holy cube', '和爺麻辣', '和興號鮮魚湯', '和記鍋貼', '和鍋台北吉林店', '和鍋台北延平店', '和鍋台北撫遠店', '和鍋新北中和店', '和鍋高雄新興店', '和?', '和食 川上', '咕咚', '咖哩厚', '咖哩捌捌十全店', '咖啡ya', '咖啡任務Cafe Task', '咖啡佬', '咖啡小自由', '咖啡沁蜜', '咖啡葉', '咖啡阿拉丁神燈餐廳', '咖啡鳥', '咖站Caf? Station', '咚飽飽(BOBO)韓式燒肉', '咱們三', '咱們小時ㄏㄡˋ', '品33', '品八方燒鵝', '品叡餐飲有限公司', '品咖哩', '品嚐悅', '品好乳酪蛋糕', '品湯白色麻辣鍋專賣', '品牌空間', '品鍋', '品香殿潮州砂鍋粥', '品鮮蝦', '品鼎殿新莊店', '品鼎殿餐廳有限公司', '哇呷咖哩涼麵', '哈本咖啡隨行吧_中正店', '哦!三明治', '唐門潮雞排南港分舵', '唐閤港式飲茶.粵菜料理', '唯。糖手做甜點工作室', '啄木鳥的家casa', '商務艙', '啡創工廠', '啤酒花大酒店', '啾哇嘿喲 韓式烤肉專門店 臺中逢甲一號店', '啾哎呷早頓', '啾啾哥', '善品堂', '喊燒 台中文心店', '喜憨兒基金會 台北Enjoy店', '喜憨兒基金會 台北Sefun板橋店', '喜憨兒基金會 台北光復店', '喜憨兒基金會 台北土城店', '喜憨兒基金會 台北富陽生機好鍋店', '喜憨兒基金會 台北新北店', '喜憨兒基金會 台北民生店', '喜憨兒基金會 台南生機好鍋店', '喜憨兒基金會 新竹Sefun勝利店', '喜憨兒基金會 新竹建中店', '喜憨兒基金會 桃園店', '喜憨兒基金會 高雄天鵝莊園', '喜憨兒基金會 高雄尚禮店', '喜憨兒基金會 高雄建元店', '喜憨兒基金會 高雄文濱店', '喜憨兒基金會 高雄生機好鍋店', '喜憨兒基金會 高雄綠野店', '喜憨兒基金會 高雄鳳山行政中心Sefun店', '喜憨兒烘焙屋 台北中華店', '喜憨兒烘焙屋 台北勞保店', '喜拉朵美式早餐咖啡', '喜歡你咖啡台南市府店', '喜海手抓海鮮', '喝一杯手沖咖啡', '喫雞', '喬得咖啡蔬房', '喵居珈琲', '嗜黑咖啡 Swing Black coffee(小case)', '嗶嗶爸', '嘉賓果食', '嘎哩咖啡', '嘴嘴桌遊館', '噢屋 手作早午餐', '嚮。自在', '嚮瘦纖食', '囍塘蝦', '囍米美甲', '囍米美甲自由店', '四分之三法式甜品', '四川紅樓極麵', '四時輕燒肉概念屋', '四知堂 四維店', '四知堂 濟南店', '四食五', '回春堂-台南店', '回鍋', '回顧香滷肉飯', '因餵食堂二店', '? KAKOI', '國王你好', '國立高雄科技大學觀光管理系', '圍廬軒', '圓味涮涮鍋 大興店', '圓味涮涮鍋 新莊店', '圓味涮涮鍋 民族店', '圓多立鐵板燒', '圓融坊', '圖們咖啡', '圖釘餐酒館', '團圓大稻埕', '土三寒六讚岐烏龍麵', '土也咖啡', '土司吐司', '在三樓', '在她家2.0 Lab/Bistro', '在廚房蔬食早午餐', '在樹上', '在欉紅', '在欉紅股份有限公司金山分公司', '地心引力', '均全國際有限公司', '坐坐PLACE展演餐館', '坐著做丼飯店', '坐著做壽司本店', '坐著做居酒屋', '坦白說TABASO', '城市戰場', '城裡城外巫山烤魚', '埕裡商行實業有限公司', '堤?寵物餐廳', '堤諾義式比薩 中原家樂福店', '堤諾義式比薩 內湖家樂福店', '堤諾義式比薩 北大大義店', '堤諾義式比薩 台北光復北店', '堤諾義式比薩 台北濟南店', '堤諾義式比薩 台北莊敬店', '堤諾義式比薩 台南崇學店', '堤諾義式比薩 士林中正店', '堤諾義式比薩 板橋府中店', '堤諾義式比薩 竹北文田店', '堤諾義式比薩 高雄河堤店', '堤諾義式比薩 高雄草衙道店', '塔伯優有限公司', '塔利歐義式料理', '塔可猴有限公司', '墨凡有限公司', '墨凡有限公司窗口三', '墨凡有限公司窗口二', '墨墨 義大利麵 Mur Mur Pasta', '墨汁雞排', '墾墨咖啡館', '壹井吧', '壹心燒肉', '壹森泰食堂', '壹玖捌捌銷魂鍋貼', '壹等爌肉飯', '壽喜燒一丁沙鹿店', '夏洛特咖啡', '夏爾小餐館', '夏蜜綠', '多元策略整合行銷有限公司', '多士號 三峽店', '多士號 潭子店', '多士號 竹北莊敬店', '多士號 逢甲店', '多士號-屏東潮州店', '多士號一中店', '多摩食堂', '多樂緹婭咖啡館', '多莉咖啡', '多麼秋生活食驗室', '夢想38號', '夥伴咖啡', '夥茶', '大人的甜點', '大元光鮮有限公司台中營業所', '大叔廚房', '大員饌實業有限公司', '大地林檎-契作小農廚房', '大埔鐵板燒', '大安料理遊樂場', '大少爺創意料理', '大師兄銷魂麵舖', '大師兄銷魂麵舖-忠孝店', '大師兄麻辣鍋物', '大廚牛肉麵', '大廚蘿蔔糕 - 統一時代店', '大排檔餐飲', '大於咖啡', '大晴天親子餐廳', '大月日本料理', '大東北酸菜白肉鍋', '大樹國際文化企業股份有限公司(BigByte總管理處)', '大橋頭第一鍋物', '大江食在餐飲', '大港鐵板燒', '大為廚坊', '大紅袍麻辣火鍋', '大股燒肉', '大脊徒手脊骨保健中心', '大蔬廚房', '大都會餐廳', '大阪王將', '大阪王將台北三越站前店', '大陸牛肉麵', '大韓名鍋  台南總店', '大韓名鍋 高雄三民店', '大頭平價山海產琉球店', '大飯包快餐店', '大馬香咖哩煲', '大龍家風味蛋糕店', '天府火鍋店', '天晴咖啡', '天晴興業', '天機', '天母國王烘焙', '天澤', '天生牌', '天際航空公司', '太平時分', '太平雲梯1', '太平雲梯2', '太平雲梯3', '太鼓和洋新食', '夫妻肺片麻辣鍋(尚順店)', '夫婦居食屋', '央宗米線', '夯師傅海鮮燒烤', '奇幻地咖啡館', '奇椏咖啡', '奇維奇娃', '奔馳小廚', '奧喜長崎蛋糕', '奧斯丁夢想樂園', '奪愛咖哩仁愛店', '女人胃餐酒館', '好Der', '好?廚咖啡&廚藝教室', '好事多水電材料有限公司', '好休咖啡', '好初早餐', '好咖 Howcup CURRY CAFE', '好喫食藝', '好堡實驗室 ATT店', '好好食房', '好室鍋物', '好室鍋物忠孝店', '好寶寶點心藥膳坊', '好想吃冰 中山赤峰店', '好想吃冰 公館店', '好時好物整合行銷股份有限公司', '好杯咖啡', '好歐', '好氣氛', '好漁日mahimahi today', '好煮藝火鍋店', '好的文化有限公司', '好福食研室 Boogie Bistro', '好秋早午餐', '好窩關東煮', '好窩餐飲店', '好芙咖啡', '好迪商行', '好運殿', '好鍋', '好雞婆土雞城', '好食Breakfast', '好食在', '好香好好吃', '好麥手感烘焙坊', '好麵丘', '好麵好', '如果樹大安有限公司', '如記蔬廚', '妞媽小舖*愛唯島', '姑媽咪good mommy &co', '姜虎東678白丁韓式燒肉 台中店', '姜虎東678白丁韓式燒肉 竹北店', '姜虎東678白丁韓式燒肉 高雄店', '威力早午餐', '威慎食品股份有限公司', '威霸米可烘培坊', '威霸鍋物', '威霸鍋物(旱溪)', '娘子居食屋', '娘子炸雞', '娘子韓食 市民總店', '娘子韓食高雄店', '娜娜美學沙龍', '婆婆媽媽', '婧Shabu', '婧shabu建國店', '媽!有狗在啃拖鞋堡', '孔雀', '孔雀茶妍', '季?', '宇良食健康鍋物', '安口安口炸雞', '安多尼歐國際有限公司', '安好食精緻早餐', '安妞食堂', '安實的餐桌', '安居咖啡', '安平甜廠', '官邸食堂', '定格餐酒', '宥凱潮流行', '宮崎水產', '宮本三代', '宮都拉義式餐廳', '宴川秋-創意。麻辣', '宴滿川 信義誠品店', '家.溫度 湯專門店', '家吶子', '家溫度湯專門店 新北樂華店', '家溫度湯專門店 板橋車站店', '家溫度湯專門店 草悟店', '家鄉Hometown漢堡', '寂寞先生', '寅樂屋', '富美海鮮火鍋', '寒天高纖屋', '寧靜海餐飲店', '審計新村-三時福利社', '審計新村-俐落男士理髮', '審計新村-旅禾泡芙之家', '審計新村-森林島嶼', '審計新村-派對動物', '審計新村-甜月亮', '審計新村-甜月亮手工義大利冰淇淋', '審計新村-繞輪司Lawrence', '審計新村-覓靜時光', '寬大典藏藝術有限公司', '寬窄巷子四川麻辣鍋', '寶希甜點好時光', '寶師傅私房牛肉麵', '寶莘親子悠游空間', '尊任咖啡', '尋俠堂葡萄酒鋪', '尋常生活', '小?有冰室', '小二行號', '小人國蔣府宴', '小人物炸雞茶飲 台南民權店', '小仁泉極品豆漿 台南崇德店', '小仁泉極品豆漿 台南裕農店', '小仁泉極品豆漿 屏東博愛店', '小仁泉極品豆漿 屏東林森店', '小仁泉極品豆漿 屏東潮州店', '小仁泉極品豆漿 高雄五甲店', '小仁泉極品豆漿 高雄大社店', '小仁泉極品豆漿 高雄小港店', '小仁泉極品豆漿 高雄德賢店', '小仁泉極品豆漿 高雄文化店', '小仁泉極品豆漿 高雄武廟店', '小仁泉極品豆漿 高雄熱河店', '小仁泉極品豆漿 高雄瑞豐店', '小仁泉極品豆漿 高雄瑞隆店', '小仁泉極品豆漿 高雄苓雅店', '小仁泉極品豆漿 高雄陽明店', '小倉屋', '小倉牛日和', '小公園餐廳', '小南便當', '小和山谷', '小和田', '小喜樂咖啡館', '小器食堂-台中秀泰文心店', '小園火鍋 中華店', '小園火鍋 漢口店', '小園火鍋 精誠店', '小城外', '小墊子咖啡', '小天糖食品工坊', '小家朝食', '小小屋騎士用品', '小小樹食', '小山丘私廚', '小島早堂', '小島遇見他', '小川鍋物', '小巴黎餐酒館', '小巷拾壹 small alley', '小巷茉莉', '小後苑Backyard Jr', '小意思吧職人有限公司', '小手冰咖啡', '小挑嘴', '小文魯肉飯（東信店）', '小明冰果室', '小星覓蜜', '小春園滷味', '小春糕渣卜肉', '小春糕渣卜肉礁溪店', '小春羊肉串', '小時候X蔣老爹', '小時光早午餐', '小本愛玉 大樹店', '小本愛玉 大魯閣店', '小本愛玉 楠梓店', '小本愛玉 駁二店', '小本愛玉棧貳店', '小杏韻和風輕食便當', '小樽手作珈琲 中和環球購物中心店', '小樽珈琲 京站店', '小樽珈琲1號店', '小樽珈琲店 2號店', '小歇', '小池家', '小河馬西式餐飲館', '小?苑?肉', '小澤嘟嘟微氣泡茶飲岡山店', '小烘趴烘培-嘉義店', '小焠幸 幸福手作茶飲', '小獅王親子餐廳', '小確幸', '小米食堂', '小紅帽咖啡', '小紅食堂-高字塔旋轉餐廳', '小紅點新加坡廚房', '小紅點新加坡食堂', '小紐約松菸貨櫃披薩店', '小美食堂', '小義食', '小自由廚房', '小舍河粉', '小葉自家烘培咖啡坊', '小虎cafe', '小豬樂石火山石韓式燒肉', '小貳食堂', '小週末', '小露台', '小韓國家庭韓式料理', '小食糖', '小餐館', '小魚兒重慶烤魚', '小鮮肉涮涮屋', '小鳥窩 彩虹店', '小麥廚房', '小麥所', '小麥?子', '尚石苑石頭火鍋', '尚鼎麻辣鍋店', '尤恰桂工作坊', '就是要吃早餐', '尼克廚房', '尼莫踢NimoTea', '居食之家', '屋霸', '屏息甜點工坊', '展樂國際SYML 1', '展樂國際SYML 2', '山上聊', '山內川', '山大王休閒農莊', '山奧屋燒肉', '山姆派樂SAMpartner', '山崴·未來廚房', '山文治早餐店', '山時作', '山本堂 吐司堡', '山杯鐵板滷味', '山河雲端', '山田珈琲店', '山色', '山豬林', '岩究所', '島中堂', '崎玉火鍋', '崎禾屋', '嵐肉燥專賣店', '嵐芝宸庭園餐廳', '川井棧創意料理館', '川堂書店', '川川中華料理南港店', '川府老媽餐館', '川野辣鴨翅', '川鍋物', '巢空間飲食文化坊', '巢鍋興業有限公司', '左轉靠右', '巧chao菠蘿油&手作甜點專賣店', '巧嗑', '巧御股份有限公司', '巧樂咖啡簡餐', '巧菲woo時尚寵物沙龍', '巧遇甜點', '巴洛克音樂生活咖啡館', '巴爾餐飲', '巴蕊花生義式手作冰淇淋', '巴黎小館', '巷口鍋物', '巷弄廚房', '巷隅咖啡', '布卡堤咖啡點心', '布呱嚐食', '布拉德施維根廚房', '布朗妮中西複合餐飲', '布朗熊英式烘焙坊', '布里吉咖啡', '布魯本咖啡店', '帕帕克的店', '帕斯托義式餐廳', '帕米爾新疆餐廳', '帕蒂斯咖啡甜點屋', '帕里諾咖啡', '帝道海鮮姿造', '師園鹽酥雞', '席樂法式料理', '帶杯咖啡', '常青', '常青盧餐廳', '平價海產酸菜火鍋', '平凡人', '平安京', '平衡式果汁舖', '平衡點咖啡', '幸福咖啡', '幻猻家珈琲', '幽靈餐車', '幾度咖啡', '幾霸分雞排 好了啦紅茶冰 中壢中山店', '府城汽車客運股份有限公司 - \\x08台南雙層觀光巴士 路線一', '府城汽車客運股份有限公司 - \\x08台南雙層觀光巴士 路線三', '府城汽車客運股份有限公司 - \\x08台南雙層觀光巴士 路線二', '府食拉麵館', '庶石藏香', '康喜餐飲（sugar pea)', '康曜健康管理顧問有限公司', '康荻新食', '廚匠異國的料理店', '廚神一絕 雞煲蟹火鍋', '廢柴屋手工窯烤披薩', '廢青。港式糖水', '弄咖啡', '弄咖啡北平店', '弄咖啡大東1號店', '?樓', '?食?板料理', '引路咖啡', '弗勒莉酒窖', '弘爺漢堡 - 台南東安店', '弘爺漢堡-台南崇德店', '張記肉圓', '形塑 hair salon', '彩色巴黎', '彩色菠菠', '彩蟲屋', '彼刻餐酒館', '彼岸', '彼緹娃藝術蛋糕觀光工廠 2', '彼緹娃藝術蛋糕觀光工廠 3', '彼緹娃藝術蛋糕觀光工廠 4', '彼緹娃藝術蛋糕觀光工廠結帳口1', '很牛炭燒牛排-南投埔里店', '很牛炭燒牛排-台中向上店', '很牛炭燒牛排-台中學士店', '很牛炭燒牛排-台中崇德店', '很牛炭燒牛排-台北東興店', '後埔戰鬥雞炸物、串燒居酒屋', '後山海景咖啡', '後院', '徒步3分', '御廚海鮮城', '御湯屋', '御珍鮑', '御田屋台', '御石有限公司', '御錦科技', '復古雞餐廳  清境店', '復興咖啡交易所', '微笑先生', '微笑驢子咖啡', '德意事歐式美食屋', '德興全羊宴', '德記火鍋台南總店', '德霖 3', '德麗烘焙 金典店', '心名素食', '心味酒肴', '心地日常', '心鄰食堂', '怪獸窩聚', '恆春3000啤酒博物館', '恩寵花園', '恩比寢具行', '恩記', '恰拉大隆', '恰拉金典', '悄悄杯居酒屋', '悅時火鍋', '悅華軒酒樓', '惠比須麵屋', '想吃鍋', '想想廚房', '想想微韓輕食', '想想拾花', '想食廚房', '意享', '意享美式廚房林口三井店', '愛上愛莉  新竹店', '愛上愛莉 南京店', '愛上愛莉 南港店', '愛上愛莉 台中店', '愛上愛莉 汐止連興店', '愛上愛莉 裕民店', '愛上愛莉-台中西屯店', '愛上愛莉三重六張店', '愛上愛莉台中太原店', '愛上愛莉東湖店', '愛上愛莉永和店', '愛上這味 懷舊餐廳', '愛亦軒早餐坊', '愛恆啟能中心附設慢飛兒庇護工場', '愛樂紛', '愛焙克烘焙DIY', '愛蜂花園', '感傷唱片行', '慈御?餐館', '慈願商行', '慢慢', '慢慢來披薩屋', '慢慢來餐廳股份有限公司', '慢慢喝', '慢慢喝金花', '慢活森林生活廚坊', '慢食', '慢食堂', '慶次咖啡-松山文創1號店', '憲賣咖啡', '憲賣咖啡(外帶)', '憶童年人文懷舊餐廳', '懶日子桌遊餐廳', '懷樂亭', '成大民生廣場日本料理', '我和一心日本咖哩麵包', '戲棚下', '手心親子生活實作空間', '手麥方烘培站', '打舖2號店', '托斯卡尼尼國際有限公司基隆分公司', '扭蛋機', '找3飽', '找地方坐Have a seat', '找晨', '找晨貳號早餐店', '找漢堡漢堡店', '找餐店brunch', '找餐店brunch 花蓮店', '找餐店brunch 逢甲店', '找點名餐酒館', '技固帕串燒酒家', '折田?舖', '拉哩餐廳', '拉萃咖啡', '拉?里', '拍拍手', '拾瓦', '拾禾米香', '拾穗 Bakery & Kitchen', '拾米TO GO', '拾米屋', '拾陌咖啡', '拿帝芙', '拿筷', '挑食餐酒館', '捌捌迷你土雞鍋', '捌號店咖啡', '捲餅革命', '掌門精釀台中文心店', '排對 - 素滷排?鰻魚羹專賣', '掬羽拾光', '揉道 不老麵糰', '搖籃咖啡', '搗蛋糕', '搶雞王 蘆洲復興店', '摩爾菲特國際有限公司', '摸摸桃子洋?子', '撈鍋界麻辣鴛鴦鍋', '撿肥皂工作室', '操場', '攀岩小館', '政銓企業有限公司', '故事工場文創股份有限公司', '敘日朝食', '敘樹咖啡', '散步計畫', '敦北三渣', '敲我烘焙工作室', '敲敲金工', '文七53手工柴燒窯烤比薩', '文月國際有限公司', '斑果咖啡', '斑馬散步咖啡', '斛', '斜角巷飲料店', '新一壽司丼', '新佳餚鴨莊', '新味醬油', '新宿丼飯', '新宿便當', '新幹線24H拉麵特急', '新憩地咖啡廳', '新生公園運動園區', '新纖戀果', '新羅韓式料理', '新豐有限公司', '新都私房涮涮鍋', '新銳咖啡 台中國泰店', '新銳咖啡 台中民族店', '新銳咖啡 台中美術店', '新銳咖啡 台北天母店', '新銳咖啡 台北松高店', '新銳咖啡 嘉義民生店', '新銳咖啡 崇德店', '新銳咖啡 新竹西大店', '新銳咖啡 昌平店', '新銳咖啡 竹北縣政店', '新銳咖啡 虎尾林森店', '新銳咖啡高雄鼎中店', '新高軒', '方圓涮涮屋 南港店', '方圓涮涮屋 台北東湖店', '方圓涮涮屋 大直店', '方圓涮涮屋 崇明店', '方圓涮涮屋 復興店', '方圓涮涮屋 文德店', '方圓涮涮屋 萬大店', '方塊Pasta&Coffee', '施雜貨', '旅人灶咖', '旅人灶咖瑞豐館', '旅圖好咖', '旅城Voyage Bistro & Bar', '旋轉餐廳2F', '日一食堂', '日作美妍冰淇淋', '日光 sunlight  brunch&cafe,日光好食光', '日光私廚', '日光豆漿', '日光豆漿 環球A8店', '日光豆漿竹北', '日向 大眾酒場', '日和', '日子選食', '日常朝食', '日常生活', '日新餐廳', '日日春 Brunch&Cafe', '日日村', '日日良選', '日日食驗室', '日日高茶飲專賣', '日曬工廠', '日本酒舖 萬屋', '日福 OH HAPPY DAY', '日蒔嚐常', '日起食書生活', '日辰早餐', '日食糖', '日食糖224', '旨樂', '早。幸福', '早安森沐', '早安食光', '早捌', '早窩Cafe', '早食間', '早點子', '早點說早午餐', '旬印 Anemos Caf?', '旭壽司居食酒屋', '旺仔複合式餐廳', '旺包包旺', '旺盛饗宴', '旺福小廚房', '昀記海南雞飯', '明吉小吃', '明月鄉釜飯', '明治唯心', '明洞餐飲有限公司', '明美商行', '明野日本料理', '明陽居家生活用品', '易易茶室', '星月大地 咖啡廳', '星月大地 售票處', '星月大地 宴會館', '星月文旅', '星森咖啡屋', '星諾文創咖啡', '映像Lluxiverse', '春上手作茶飲舖', '春日部燒肉苑', '春美冰?室', '春花燒烤', '昨天Bistro & Flavor', '昭和五七大眾酒場', '是的', '時墨咖啡', '時寓', '時尚瑟彩髮型有限公司', '時常在這裡', '時甜', '時美齋鐘錶股份有限公司', '時間殺手', '晚安點心坊', '晞果甜點', '晨時', '晨晝', '晨曉好食', '晨覓', '晨食。MORNING早午餐', '晴天廚房', '智慧環境會館', '暗街宅內', '暮森咖啡', '曉鹿鳴樓', '曉鹿鳴樓上海菜2', '曜日餐酒咖啡館', '書屋花甲', '曼谷市場-東門市場店', '曼谷魚-桃園ATT店', '最後一口餐酒館', '月光咖啡館', '月?Maid Cafe', '月夜岩   日本料理', '有。料理', '有一家PASTA', '有你真好有限公司', '有你真好湘菜沙龍', '有時精釀', '有朝一日', '有琴人&雲裡面', '有省錢日式丼飯芝山店', '有閑咖啡', '有間本鋪-創始店', '有間本鋪-熱河店', '有間本鋪-西子灣店', '有間火鍋', '有點胖', '朋丁空間', '朕店麻辣鍋', '朕點麻小面', '朗果咖啡', '木子食堂', '木庵食事處二店', '木更 MUGENERATION', '木木川定食鍋物', '木木江鳥衣谷手作千層', '木槿花韓式食堂', '木葉粗食', '木衛二 大直鑄茶所', '木衛二-信義鑄茶所', '木衛二世界茶館', '木衛二伊通鑄茶所', '木衛二嘉義鑄茶所', '木野瘦身美容會館', '木野養生館', '木鋤造樸有限公司', '木門咖啡', '未央 musicaf? 咖啡 音樂', '未秧咖啡', '本壽司', '本家長壽村', '本日好牛研究所', '本立自然良品', '本鼎堂 台式漢方麻辣鍋', '朱比特咖啡', '朱熹漢堡', '朱熹漢堡（高雄大立）', '朱確幸', '朵妮小手烘焙', '朵拉坊', '村上村屋涮涮鍋', '村口微光', '杓文字', '杯底香', '杯盃複合館', '東京咖哩 八德店', '東京咖哩 林森店', '東京咖哩 統一時代店', '東京目黑酒場???', '東京餐廳', '東勢牛稼莊', '東央貢泰食堂', '東方美', '東海二餐A', '東海咖啡', '東海管餐', '東海花餐A', '東海起司塔', '東門茶樓', '東門餐廳', '東風南喃咖啡甜點', '松村活海鮮餐廳', '松果小食', '松江庭日本料理-博愛店', '松江庭日本料理-瑞隆店', '松竹餐飲有限公司', '松葉園', '松薇食品有限公司', '松食堂', '板前燒肉一徹', '板東屋', '林仔邊自然文史保育協會', '林口天光', '林檎印', '林聰明砂鍋魚頭 Mini Smart', '林記麻醬麵', '果亞早午餐', '果匠正庵烘焙專職店', '果堂咖啡', '果嫁凍涼 good good', '果核抵家', '果物美學-線上服務店', '果物美學x友善農產大德店', '果珍飲DrinkS', '果雅方舟水果吧', '果頁', '柏和牛燒肉', '某村', '柒品茶 N.7 Tea Lounge', '柒壹喫堂', '查理布朗有限公司', '柯公子炸雞專門店', '柳居 形異料理', '栮苳之家', '核果烘焙', '核桃蝸牛', '桃園機場二航廈長榮航空貴賓室', '桃大魯肉飯', '桃猿大盛', '桃緣館', '桃花源緣', '桃莉咖哩仁義店', '桃莉咖喱高鐵店', '桌遊星球', '桔吉力早午餐', '梁鑫雞肉飯專門店', '梅森維拉玻璃屋', '棗點子', '棨楊餐飲', '森呼吸', '森夜咖啡', '森森燒肉', '森氏咖啡所', '森漢堡', '森萃鍋物', '森高砂 東門店', '森高砂咖啡華山實驗室', '森高砂咖啡（大稻埕店）', '植人', '植田割烹餐飲店', '椒貴妃食坊', '椰兄', '楠梓店', '極品軒餐飲有限公司', '極清拉麵', '極致莊園', '極鼎 鮮 鍋物', '榖珈琲', '榛友.藏', '槿韓食堂', '樂pain麵包工坊', '樂享學', '樂享森活寵物友善餐廳', '樂仔餃子', '樂去餐飲', '樂吃鍋火鍋店', '樂咖啡', '樂咖湯咖哩', '樂崎火鍋 新莊店', '樂崎火鍋 板橋店', '樂崎火鍋萬華分店', '樂府義式廚房', '樂彼餐飲', '樂待STAY', '樂晴鍋物 La Ching Hot Pot', '樂樂咖啡(延壽)', '樂烘妹桃園店', '樂烘烘', '樂福利餐酒館', '樂福膳食堂', '樂童樂室內親子遊樂園', '樂童樂室內親子遊樂園2', '樂趣', '樂軒URBAN', '樂食Love EAT', '樂食天下', '樂飯樂販-虎尾店', '樂饗精緻鍋物', '樂饗精緻鍋物坊 永和中正店', '樂齡養身村', '樸食鍋物', '樹仔腳', '樹男咖啡館', '橋下餐酒館2.0', '橋咖啡', '橋恩咖啡 竹北文信店', '橋恩咖啡 苗栗北安店', '橋貳', '橘村屋', '橘色煙囪', '橙黃橘綠', '機器人餐廳 ROBOT-STATION', '檸檬羅勒 Lemon Basil', '櫟舍文學餐廳', '櫻田野養生野菜鍋物', '權泉珈琲', '欣藍舍美食有限公司', '歐培拉義式餐坊', '歐多桑', '歐里歐健康廚房', '正一出國停車', '正大茶園', '正海城', '正當冰', '此刻文創', '步司研', '武藤拉麵', '武食', '歪歪歪甜點', '比帽王', '比時地美式漢堡 三峽店', '比時地美式漢堡 健行店', '比時地美式漢堡興大店', '毛竹鍋物二店', '民生小綠餐酒館', '?持咖啡館 kimoji coffee house', '氛享廚房', '氣球玩派對', '氧咖啡', '水云茶堂(阿里山鐵道紅茶-總店)', '水云茶堂-新興店', '水岸森林會館', '水明漾水上景觀', '水水日常', '水礦Restaurant & Cafe', '水竹日式料理', '水貨-新莊店', '水貨-豐原店', '水貨烤魚-公益店', '水車日本料理', '水都活海鮮', '永川田有限公司', '永心鳳茶 高雄三民店', '永心鳳茶 高雄苓雅店', '永芳香菇肉羹', '汐游小巨蛋', '江中伯涮牛肉', '江偉達康居酒屋', '江家永和豆漿 天母店', '江家牛肉麵 永和門市', '江川居', '江記水盆羊肉', '池先生三猿店有限公司', '池玖便當', '沁春茶堂', '沐可提黑糖飲品', '沐府', '沐慕茶飲', '沐春溫泉料理', '沐瓜緣', '沐食Res.', '沛洛瑟珈琲店', '沛洛瑟珈琲店?之二', '河童咖喱', '沸騰極致涮涮鍋', '油?', '油頭雞蛋糕-嘉義店', '泉屋二次?', '泉屋小吃店', '法客公園人商號', '法斯樂', '法歐里', '法米?法式甜點咖啡', '法蘭趣', '法虎堂拉麵丼飯', '法語人之家  Caf?t?ria La Maison', '泡泡堂德式鮮釀原漿啤酒廠', '泡芙球', '波奇哈克', '波波諾諾', '波諾義大利料理', '波赫士領地', '泰一定食', '泰勒瓦生活', '泰好糠美食盒飯-裕誠店', '泰式幽靈串燒', '泰熙爾札娜世界寶礦石有限公司 台北店', '泰街頭', '泰錝泰式料理', '泰風味', '洋流', '洋記豆行', '洒家小酒館', '洛琳莊園', '洛米耶蔬食', '津美妙', '津鍋(富林店)', '洪元讚燒肉飯', '洪元讚燒肉飯 平鎮店', '洪元讚燒肉飯-大潤發內湖二館店', '洪家回春堂鹹酥雞-北屯分堂', '洪家回春堂鹹酥雞-景美分堂', '活力廚房', '活力果園', '活力莊敬店', '活醉蝦海鮮', '派奇尼義式冰淇淋*甜點', '派樂地', '流浪貓香草義式廚房', '流石咖啡', '浩克海鮮炭烤酒吧', '浩川麵食', '浪浪別哭', '浪浪別哭 台中店', '浪漫廚房', '浮島蒔', '海丸?', '海倫咖啡', '海因絲', '海洋微光', '海濱海產', '海濱街角101', '海灣星空咖啡館', '海神咖啡', '海邊走走-信義店', '海邊走走淡水一店', '海邊走走淡水二店', '涮霸', '涼涼食茶', '淀殿', '淇里思印度餐廳 朝富店', '淇里思印度餐廳新竹店', '淘帽屋', '淘憩', '淘汽小姐', '淡水天光', '淡水長堤', '淬義', '深夜日式關東煮', '深夜裡的法國手工甜點', '深情海岸海景餐廳', '深法廚房桃園', '深法股份有限公司', '深海密碼', '淳覺植饌咖啡坊', '添朋', '清水冬瓜王', '清澄', '清香園客家美食', '渣男Taiwan Bistro 信義店', '渣男居酒屋木柵店', '渥老吉 X 川串兒', '渥蔓國際美學', '港南米線', '港式之星百匯美食館', '港式聞雞起爐麻辣雞煲火鍋', '港點大師 八德廣豐店', '港點大師 大立精品店', '港點大師 新竹暐順店', '港點大師 桃園遠百店', '港點大師-三創店', '港點大師-京站店', '港點大師樹林店', '渴室ThirstyStudio', '游牧餐桌', '湁陸', '湄南河有限公司', '湖美牧鍋頂級熟成牛鍋物 湖美店', '湘記麵館', '湛屋', '湯作鍋物', '湯姆早午餐', '湯姆阿姨', '湯家麵食堂', '湯霸臭臭鍋', '源色紅茶', '溫叨咖啡 敦南店', '溫叨咖啡館', '溫味食堂', '滷滷味 微風松高店', '滷滷味-土城店', '滷滷味（復興店）', '滾滾燒雞蛋糕', '滿玥軒台南旗艦店', '滿足鍋物', '漁夫市集', '漁藏麵屋', '漁饗日式料理', '漢家園 中山店 第一結帳口', '漢家園 中山店 第二結帳口', '漢家園鍋物 昌平店', '漫慢cafe', '漫步左岸法式甜點', '漱豆花', '潮星州海南雞飯專賣-亞東店', '潮星洲新馬料理（健行總店）', '潮港城藝人景觀餐廳', '澄意食堂', '澎湃豆花', '激屋居酒屋', '濃九豆乳', '濃夫生活', '濕地股份有限公司', '濟善老麵', '濟鴻火鍋店', '灑椒麻辣鴛鴦河堤店', '火星小廚', '火烤王', '火鍋大叔(南崁店)', '火鍋大叔星池店', '炭樵日式串燒居酒屋', '炭火工廠', '炭火燒肉無敵', '炭長居酒屋', '炸翻薯', '烏嚕嚕咖啡', '烏日莫尼', '烘加咖啡', '焙窩手工甜點坊', '無二臺菜', '無光晚餐', '無尾熊早餐吧', '無聊咖啡', '無鍋底', '無飲', '焦糖楓日式無?撒粉串燒師大店', '焦糖楓永吉店', '焦糖楓通化店', '然後工作室', '熊來了', '熊賀串燒', '熊賀燒肉', '熊飽鍋物', '熙熙_光復門市', '熱吻 Hot Kiss Tattoo&coffee', '熱海別?', '熱胖子菠蘿/三明治/薯泥 專賣店', '燒BAR', '燒出名堂', '燒燒YAKIYAKI  忠孝店', '燒肉屋  蘆洲店', '燒肉眾中和環球店', '燒肉風間', '燒蝦', '燒鳩居酒屋', '燕牌料飲', '爆Q美式炸雞中壢復興店', '爐鍋咖啡 國家音樂廳店', '爐鍋咖啡 關渡門市', '爐鍋咖啡北藝大門市', '爐鍋咖啡地下書街門市', '爐鍋咖啡大稻埕門市', '爵?旋轉串燒', '爸爸笑特色燒肉', '爺茶 伊通店', '爺茶-延吉店', '爽爽涮涮鍋', '牆角咖啡', '牛乳屋', '牛吉燒肉', '牛庫炭燒牛排', '牛樂麵', '牛肆食堂', '牛鬍子', '牧旅咖啡', '牧牧沙拉', '牧石鍋物 大興店', '牧石鍋物 統領店', '牧鍋頂級熟成牛鍋物 裕農店', '特仕茶', '特鼎餐飲有限公司', '狠生氣燒肉店', '狼堡', '猿羽川料理環島計劃', '猿黑堂', '獨角獸洋食館', '玉堂春', '玉琢', '玉蘭活魚餐廳', '王將鬆餅', '王巧手', '王牪牛排', '王牪牛排 嘉義中山店', '王牪牛排2店', '王的茶道-南園店', '王鍋屋 酸白菜鍋專門店', '玖陸酒食', '玩味旅舍', '玩味餐桌', '玩樂磚家', '玩逗樹桌遊咖啡', '玩酷有限公司', '玫瑰夫人', '玻璃糖', '珈咖好', '珈琲?（JIN FBC）', '珈琲瑀自家焙煎咖啡', '珍國宴咖啡有限公司', '珍寶廚房', '珍心珍意', '珍．粉紅城堡', '珠寶盒法式點心坊 信義穀倉店', '珠寶盒法式點心坊 師大麗水總店（西點）', '珠寶盒法式點心坊 遠企安和店', '現場馬拉桑Bistro', '琅茶 Wolf Tea', '琉璃仙境', '琪積輪胎', '琪美店', '琴之森股份有限公司', '瑞佳食品行', '瑞思3D列印專門店', '瑞記海南雞飯 民權店', '瑞記海南雞飯 永吉店', '瑞記海南雞飯-台中新光三越店', '瑧淇', '瑪多內小酒館', '瑪妮年糕鍋', '瑪寶咖啡', '瑪琪朵朵', '瑪納社企CAF?', '瑪莉珍 台大店', '瑪莉珍 師大店', '瑪諾醫藥生技有限公司', '瑪露連-新豐店', '瑪露連-東大店', '瑪露連-湖口天真店', '璐露野生活', '璞園', '瓦芙咖啡館', '瓦薩美式餐廳 內科店', '瓦香煨湯 竹北文興店', '甘日洋食行', '甘樂文創', '甘泉魚麵中華店', '甜品胃', '甜室', '甜心水果', '甜慢慢', '甜福早午餐', '甜舞糖水', '甜蒔', '生地餅舖', '生活倉廚 內湖店', '生活小事餐酒館', '田中板前大樹店', '田中清一?道樂有限公司', '田寮農莊', '田爺晴天屋早午餐', '田納州咖啡館', '男?漢丼飯', '男朋友家', '留校茶看', '留海', '畬室法式巧克力甜點創作', '異柒手作甜點咖啡', '?宅Egghost', '瘋仙草辛亥店', '瘋廚爺爺', '瘦仔林叻沙-石碇服務區', '瘦鎂人', '療癒甜點', '癡漢堡', '發光吧 咖啡', '發現了', '發芽好食光', '白暮蛋餅先生 松菸店（2號店）', '白舍 plain house', '白色花藝', '百分之二咖啡', '百合莊園', '百花猿BeApe', '皇后牛排館', '盅龐水產', '益柔廚房', '益生堂。凡吉力', '盛苑韓燒肉', '目木原覺  台中店', '目木原覺 台南店', '真享饌鍋物', '真好味餐廳', '真芳信義店', '真芳民生店', '督賀咖啡', '督賀蔬苑', '督醍咖啡', '睿淇咖啡', '瞌睡咖啡', '矬蛋美式廚房', '石上清?高山茶飲', '石家烤肉', '石研室 中科店', '石研室 勤美店', '石研室 北車店', '石研室台南店', '石都府', '研田拉麵', '研香所', '硬性格咖啡', '碗宴 台大醫院', '碧耳貓BeerCat', '社團法人台灣同志諮詢熱線協會', '神樂', '神?咖啡', '神田?LaVie', '神茶油-油好小舖台南店', '神茶油台北振興店', '神茶油台南總店(木屋)', '神農青舍', '神閑茶', '祥和餐飲有限公司', '祥實食品有限公司', '福來早餐 中和店', '福來早餐 六張犁店', '福來早餐 芝山店', '福來早餐中山店', '福來早餐安東店', '福來舖', '福?鍋物', '福壽海鮮料理', '福山排骨', '福山排骨便當專賣店', '福德洋房', '福東麻油', '福柒涮涮鍋', '福氣屋', '福海鮮屋', '福灣莊園', '福田屋咖哩 中壢店', '福田屋咖哩 黎明店', '福聚樓包子店', '福菊臭豆腐鍋（輔英店）', '福華飯店Hovii Cafe', '福記紅白鍋', '福門堂', '禚家牛肉麵', '禧樂日本料理', '禪那咖啡', '禮面作', '禾乃川股份有限公司', '禾軒屋', '禾間糧倉', '秀泰生活台中文心重次郎', '秀花鍋', '秀麵尊', '私室酒吧', '秋千', '秋福飲食店', '秋風軒廣豐店', '秘密基地義式餐館', '秘方MEET FUN', '秘氏咖啡-大安', '稍飽', '稍飽 新光A11店', '稍飽北車微風店', '稍飽林口A9店', '稜角室', '稞枓咖啡廚房', '稻舍食館(迪化本店)', '稻蒔盒餐', '稻香石磨腸粉', '稻香石磨腸粉-松江店', '穎隆新式料理餐廳有限公司', '空也蔬食鍋物', '空氣圖書館', '穿石甜點空間坊', '突?咖啡喵', '窖父', '窩巷弄', '窩廚房', '窩窩', '窩邊草咖啡', '窯食', '立麒鮮肉湯包', '端偉股份有限公司', '竹仔腳麵食館', '竹籬啤酒屋', '笑笑亭', '笑笑千層蛋捲', '等一下居酒屋', '箸肉家', '築地壽司', '築地市場', '米凱樂啤酒吧南西店', '米半鐵板料理', '米可烘焙坊', '米吉米。咖啡。三明治（南崁榮興店）', '米夏', '米奇林越光米便當', '米戚風蛋糕專賣店', '米果低卡便當', '米樂', '米樂幸福料理便當', '米沙路莊園', '米盛食堂', '米石里', '米粒 中山店', '米芝蓮港式有限公司', '米蘭電通有限公司', '米販咖啡安和店', '米食林', '粉牛樂園有限公司', '精靈餐酒館', '糕飛?子工作坊', '糖呷春食堂', '糖朝大樂店', '糧好', '糧田', '紀路甜點', '約克王子早午餐', '約瑟品味餐廳', '紅屋小廚', '紅帽烘焙', '紅牛原味炭烤牛排', '紅玉滿赤心雞蛋糕-內壢店', '紅玉滿赤心雞蛋糕-新店家樂福', '紅盒子 Le Rouge Cafe', '紅磚地窖', '紅羽毛咖啡餐酒館', '紅頂餐飲文心港點', '紅香麻', '納達吉印度料理', '紐奧良小廚信義象山店', '純素天堂Vegan Heaven台北', '純薏仁', '素描學派', '素珍疏食', '紫蝴蝶餐點坊', '給恰有限公司', '絲酥入叩', '經國家樂福', '綠光花園', '綠沐恬拾 Caf?&P?tisserie', '綠的廚房貳', '綠的空間', '綠色大地', '綠萼春風兔兔花園', '維亞娛樂有限公司信義營業所', '維亞娛樂有限公司西門町營業所', '維京女王早午餐咖啡館', '維宏食品有限公司', '維記茶餐廳 光復店', '維記茶餐廳 西門店', '綿?子工坊', '總裁正港現宰羊肉爐', '織田信長串燒酒場', '繭裹子', '續杯咖啡', '美?晨早餐部屋', '美之晨早餐店', '美人魚網紅咖啡館', '美塑餐飲有限公司', '美好食日所', '美寓旅店', '美的咖啡', '美聚客早午餐店', '美香早午餐', '美鴨園', '美麗咖啡', '美麗樹餐飲', '美麗蔬', '美?麵屋', '義大利米蘭手工窯烤披薩 台北店', '義家人', '義窩風', '義米蘭', '義米蘭嘉義旗艦店', '義薩格', '義郎創作壽司-美術店', '義郎小吃店-忠言店', '羽樂歐陸創意料理', '翟九', '翻轉', '老倉庫內湖店', '老八風居酒屋新埔店', '老協珍101門市', '老協珍東區旗艦門市', '老協珍錦州店', '老妹的灶下', '老婆吃鍋', '老媽拌麵大安旗艦店', '老將自助餐', '老屋壽喜燒', '老山西鍋物楠梓旗艦店', '老山西麻辣鍋仁武總店', '老式吃鍋', '老曹旺信義A9店', '老曹旺川味鍋物', '老曹旺時尚店', '老曾羊肉店', '老派的約會', '老派的約會老頭店', '老濟安 Healing Herbar', '老爺小花園', '老皮咖啡外帶吧', '老窩咖啡石牌總店', '老窩廚房', '老街驛站', '老鄧', '老鄰居麵食館', '老靈魂工作室', '老鮮樓', '耕水食堂', '耳東華苑渡假會館', '聖?國際股份有限公司', '聖安生命禮儀', '聚品窩', '聚樂町日式居酒屋', '聚落山海', '聯安健康廚房有限公司', '聽雨軒', '肆意咖啡酒館', '肉割烹 ??', '肉大人', '肉肉咖啡', '肉肉堂', '肕 燒肉 酒肆', '肥春號', '肯塔咖啡', '肯尼咖啡1店 彰化和線店', '肯尼咖啡2店 (Kenny Lab)', '肯尼咖啡3店 彰化西川店', '肯納健康生活館 仁愛館', '肯納社會企業股份有限公司 市府館', '育誠蛋品', '胃太小商行', '胖廚師咖啡坊', '胖老爹寧夏夜市店', '胖老爹美式炸雞 三峽北大店', '胖老爹美式炸雞 桃園國際店', '胖老爹美式炸雞 桃鶯店', '胖老爹美式炸雞 樹林店', '胖老爹美式炸雞 泰山明志店', '胖老爹美式炸雞 高雄鳳山店', '胖老爹美式炸雞-西門店', '胖老爹美式炸雞中和員山店', '胖豆?Sweet Cafe 台北店', '胖豆?Sweet Cafe 高雄店', '胖達咖啡 丹鳳店', '胖達咖啡台中麗寶店', '胖達咖啡茶專門店 - 總店', '胡仕托', '胡思咖啡商行', '脂 板前 炭火燒肉', '膳膳火鍋', '臨江磯燒', '自在煮義', '自由之森園藝社', '自由基地', '舒服氣息', '舞古賀鍋物專門店', '舞白牛排屋', '舞茶實業有限公司', '舞鶴居酒食', '舶食', '船來雪淇淋', '艋飯屏東旗艦店', '良品嚴選計畫', '良水食作 日安潭子店', '良汁好日', '良辰鍋物', '良食健康低卡餐', '良食健康低卡餐二店', '艷麗南洋甜品', '艸水木堂飲料店', '艾倫吐司', '艾克斯小吃店', '艾力克頌烘培南崁店', '艾力克頌烘培藝文店', '艾可軒早餐', '艾斯酷比 icube', '艾爾咖啡', '艾瑪美學', '艾白旅生', '艾維農歐風素食', '艾肉客', '艾莉斯餐酒館', '艾莉森音樂中心', '艾萃咖啡', '艾酷奇icookie', '芙林鐵板燒', '芙林鐵板燒 廣三sogo', '芙林鐵板燒 新竹sogo', '芙林鐵板燒……和億北車店', '芭娜娜早午餐', '芯 手作料理', '花姊,窩聚廚房', '花惹發有限公司', '花漾朋派', '花漾飲食空間', '花漾點點 光復店', '花甜果室', '花生俱樂部 PEANUT CLUB', '花盒子點心坊', '花老五刈包', '花舍', '花草果香', '花草果香 站前店', '花鳥川水果千層 台中高鐵店', '芳庭彼得餐坊', '芹沃咖啡烘焙館', '苗栗客家文化園區嚐客', '苗栗甘泉魚麵', '苙森林實業有限公司', '英倫茶館', '茉莉漢堡', '茉莉漢堡 復興店', '茱蒂漢堡', '茶后', '茶理.布朗', '茶訣茗品茶亭', '草原風蒙古火鍋', '草山金工 - 板橋大遠百店', '草山金工 A11店', '草山金工 京站店', '草山金工 公園店'])\n"
     ]
    },
    {
     "name": "stderr",
     "output_type": "stream",
     "text": [
      " 85%|████████▌ | 3228/3788 [1:15:27<63:41:09, 409.41s/it]"
     ]
    },
    {
     "name": "stdout",
     "output_type": "stream",
     "text": [
      "new driver\n"
     ]
    },
    {
     "name": "stderr",
     "output_type": "stream",
     "text": [
      " 86%|████████▌ | 3244/3788 [2:10:22<57:29:44, 380.49s/it]"
     ]
    },
    {
     "name": "stdout",
     "output_type": "stream",
     "text": [
      "new driver\n"
     ]
    },
    {
     "name": "stderr",
     "output_type": "stream",
     "text": [
      " 86%|████████▌ | 3245/3788 [2:14:35<51:36:29, 342.15s/it]"
     ]
    },
    {
     "name": "stdout",
     "output_type": "stream",
     "text": [
      "new driver\n"
     ]
    },
    {
     "name": "stderr",
     "output_type": "stream",
     "text": [
      " 86%|████████▌ | 3256/3788 [2:26:26<13:15:03, 89.67s/it] "
     ]
    },
    {
     "name": "stdout",
     "output_type": "stream",
     "text": [
      "new driver\n"
     ]
    },
    {
     "name": "stderr",
     "output_type": "stream",
     "text": [
      " 86%|████████▋ | 3275/3788 [2:58:16<20:56:08, 146.92s/it]"
     ]
    },
    {
     "name": "stdout",
     "output_type": "stream",
     "text": [
      "new driver\n"
     ]
    },
    {
     "name": "stderr",
     "output_type": "stream",
     "text": [
      " 87%|████████▋ | 3277/3788 [3:05:04<27:25:25, 193.20s/it]"
     ]
    },
    {
     "name": "stdout",
     "output_type": "stream",
     "text": [
      "new driver\n"
     ]
    },
    {
     "name": "stderr",
     "output_type": "stream",
     "text": [
      " 87%|████████▋ | 3285/3788 [3:18:32<14:47:51, 105.91s/it]"
     ]
    },
    {
     "name": "stdout",
     "output_type": "stream",
     "text": [
      "new driver\n"
     ]
    },
    {
     "name": "stderr",
     "output_type": "stream",
     "text": [
      " 87%|████████▋ | 3301/3788 [3:53:30<40:16:13, 297.69s/it]"
     ]
    },
    {
     "name": "stdout",
     "output_type": "stream",
     "text": [
      "new driver\n"
     ]
    },
    {
     "name": "stderr",
     "output_type": "stream",
     "text": [
      " 87%|████████▋ | 3309/3788 [4:07:14<20:05:48, 151.04s/it]"
     ]
    },
    {
     "name": "stdout",
     "output_type": "stream",
     "text": [
      "new driver\n"
     ]
    },
    {
     "name": "stderr",
     "output_type": "stream",
     "text": [
      " 88%|████████▊ | 3319/3788 [4:21:31<14:31:44, 111.52s/it]"
     ]
    },
    {
     "name": "stdout",
     "output_type": "stream",
     "text": [
      "new driver\n"
     ]
    },
    {
     "name": "stderr",
     "output_type": "stream",
     "text": [
      " 88%|████████▊ | 3320/3788 [4:27:54<25:03:40, 192.78s/it]"
     ]
    },
    {
     "name": "stdout",
     "output_type": "stream",
     "text": [
      "new driver\n"
     ]
    },
    {
     "name": "stderr",
     "output_type": "stream",
     "text": [
      " 88%|████████▊ | 3322/3788 [4:32:46<22:46:53, 175.99s/it]"
     ]
    },
    {
     "name": "stdout",
     "output_type": "stream",
     "text": [
      "new driver\n"
     ]
    },
    {
     "name": "stderr",
     "output_type": "stream",
     "text": [
      " 89%|████████▉ | 3362/3788 [5:26:16<13:56:02, 117.75s/it]"
     ]
    },
    {
     "name": "stdout",
     "output_type": "stream",
     "text": [
      "new driver\n"
     ]
    },
    {
     "name": "stderr",
     "output_type": "stream",
     "text": [
      " 89%|████████▉ | 3365/3788 [5:32:12<16:13:03, 138.02s/it]"
     ]
    },
    {
     "name": "stdout",
     "output_type": "stream",
     "text": [
      "new driver\n"
     ]
    },
    {
     "name": "stderr",
     "output_type": "stream",
     "text": [
      " 89%|████████▉ | 3374/3788 [5:43:59<12:14:32, 106.45s/it]"
     ]
    },
    {
     "name": "stdout",
     "output_type": "stream",
     "text": [
      "new driver\n"
     ]
    },
    {
     "name": "stderr",
     "output_type": "stream",
     "text": [
      " 90%|█████████ | 3422/3788 [7:03:06<14:08:46, 139.14s/it]"
     ]
    },
    {
     "name": "stdout",
     "output_type": "stream",
     "text": [
      "new driver\n"
     ]
    },
    {
     "name": "stderr",
     "output_type": "stream",
     "text": [
      " 90%|█████████ | 3425/3788 [7:08:52<14:24:11, 142.84s/it]"
     ]
    },
    {
     "name": "stdout",
     "output_type": "stream",
     "text": [
      "new driver\n"
     ]
    },
    {
     "name": "stderr",
     "output_type": "stream",
     "text": [
      " 91%|█████████ | 3449/3788 [7:34:53<9:05:19, 96.52s/it]  "
     ]
    },
    {
     "name": "stdout",
     "output_type": "stream",
     "text": [
      "new driver\n"
     ]
    },
    {
     "name": "stderr",
     "output_type": "stream",
     "text": [
      " 91%|█████████ | 3453/3788 [7:43:22<12:46:28, 137.28s/it]"
     ]
    },
    {
     "name": "stdout",
     "output_type": "stream",
     "text": [
      "new driver\n"
     ]
    },
    {
     "name": "stderr",
     "output_type": "stream",
     "text": [
      " 91%|█████████ | 3456/3788 [7:52:44<16:23:49, 177.80s/it]"
     ]
    },
    {
     "name": "stdout",
     "output_type": "stream",
     "text": [
      "new driver\n"
     ]
    },
    {
     "name": "stderr",
     "output_type": "stream",
     "text": [
      " 91%|█████████▏| 3457/3788 [8:00:03<23:32:45, 256.09s/it]"
     ]
    },
    {
     "name": "stdout",
     "output_type": "stream",
     "text": [
      "new driver\n"
     ]
    },
    {
     "name": "stderr",
     "output_type": "stream",
     "text": [
      " 91%|█████████▏| 3460/3788 [8:08:21<17:56:48, 196.98s/it]"
     ]
    },
    {
     "name": "stdout",
     "output_type": "stream",
     "text": [
      "new driver\n"
     ]
    },
    {
     "name": "stderr",
     "output_type": "stream",
     "text": [
      " 91%|█████████▏| 3466/3788 [8:16:48<9:22:35, 104.83s/it] "
     ]
    },
    {
     "name": "stdout",
     "output_type": "stream",
     "text": [
      "new driver\n"
     ]
    },
    {
     "name": "stderr",
     "output_type": "stream",
     "text": [
      " 92%|█████████▏| 3468/3788 [8:23:09<14:20:42, 161.38s/it]"
     ]
    },
    {
     "name": "stdout",
     "output_type": "stream",
     "text": [
      "new driver\n"
     ]
    },
    {
     "name": "stderr",
     "output_type": "stream",
     "text": [
      " 92%|█████████▏| 3472/3788 [8:31:54<14:09:32, 161.30s/it]"
     ]
    },
    {
     "name": "stdout",
     "output_type": "stream",
     "text": [
      "new driver\n"
     ]
    },
    {
     "name": "stderr",
     "output_type": "stream",
     "text": [
      " 92%|█████████▏| 3473/3788 [8:39:50<22:23:45, 255.95s/it]"
     ]
    },
    {
     "name": "stdout",
     "output_type": "stream",
     "text": [
      "new driver\n"
     ]
    },
    {
     "name": "stderr",
     "output_type": "stream",
     "text": [
      " 92%|█████████▏| 3477/3788 [8:49:42<14:16:12, 165.19s/it]"
     ]
    },
    {
     "name": "stdout",
     "output_type": "stream",
     "text": [
      "new driver\n"
     ]
    },
    {
     "name": "stderr",
     "output_type": "stream",
     "text": [
      " 92%|█████████▏| 3495/3788 [9:33:51<29:06:20, 357.61s/it]"
     ]
    },
    {
     "name": "stdout",
     "output_type": "stream",
     "text": [
      "new driver\n"
     ]
    },
    {
     "name": "stderr",
     "output_type": "stream",
     "text": [
      " 92%|█████████▏| 3497/3788 [9:46:42<32:46:59, 405.56s/it]"
     ]
    },
    {
     "name": "stdout",
     "output_type": "stream",
     "text": [
      "new driver\n"
     ]
    },
    {
     "name": "stderr",
     "output_type": "stream",
     "text": [
      " 93%|█████████▎| 3529/3788 [11:25:25<29:21:59, 408.18s/it]"
     ]
    },
    {
     "name": "stdout",
     "output_type": "stream",
     "text": [
      "new driver\n"
     ]
    },
    {
     "name": "stderr",
     "output_type": "stream",
     "text": [
      " 94%|█████████▍| 3557/3788 [12:24:15<20:56:43, 326.42s/it]"
     ]
    },
    {
     "name": "stdout",
     "output_type": "stream",
     "text": [
      "new driver\n"
     ]
    },
    {
     "name": "stderr",
     "output_type": "stream",
     "text": [
      " 94%|█████████▍| 3571/3788 [13:00:34<17:02:49, 282.81s/it]"
     ]
    },
    {
     "name": "stdout",
     "output_type": "stream",
     "text": [
      "new driver\n"
     ]
    },
    {
     "name": "stderr",
     "output_type": "stream",
     "text": [
      " 94%|█████████▍| 3577/3788 [13:19:30<18:51:08, 321.65s/it]"
     ]
    },
    {
     "name": "stdout",
     "output_type": "stream",
     "text": [
      "new driver\n"
     ]
    },
    {
     "name": "stderr",
     "output_type": "stream",
     "text": [
      " 95%|█████████▌| 3609/3788 [14:32:05<10:54:43, 219.46s/it]"
     ]
    },
    {
     "name": "stdout",
     "output_type": "stream",
     "text": [
      "new driver\n"
     ]
    },
    {
     "name": "stderr",
     "output_type": "stream",
     "text": [
      " 95%|█████████▌| 3614/3788 [14:42:28<6:46:15, 140.09s/it] "
     ]
    },
    {
     "name": "stdout",
     "output_type": "stream",
     "text": [
      "new driver\n"
     ]
    },
    {
     "name": "stderr",
     "output_type": "stream",
     "text": [
      " 95%|█████████▌| 3616/3788 [14:51:19<9:11:44, 192.47s/it] "
     ]
    },
    {
     "name": "stdout",
     "output_type": "stream",
     "text": [
      "new driver\n"
     ]
    },
    {
     "name": "stderr",
     "output_type": "stream",
     "text": [
      " 96%|█████████▌| 3636/3788 [15:13:40<7:27:47, 176.76s/it]"
     ]
    },
    {
     "name": "stdout",
     "output_type": "stream",
     "text": [
      "new driver\n"
     ]
    },
    {
     "name": "stderr",
     "output_type": "stream",
     "text": [
      " 96%|█████████▋| 3651/3788 [16:04:38<13:17:09, 349.12s/it]"
     ]
    },
    {
     "name": "stdout",
     "output_type": "stream",
     "text": [
      "new driver\n"
     ]
    },
    {
     "name": "stderr",
     "output_type": "stream",
     "text": [
      " 99%|█████████▊| 3734/3788 [19:49:31<5:00:13, 333.58s/it] "
     ]
    },
    {
     "name": "stdout",
     "output_type": "stream",
     "text": [
      "new driver\n"
     ]
    },
    {
     "name": "stderr",
     "output_type": "stream",
     "text": [
      " 99%|█████████▊| 3735/3788 [20:04:24<7:22:52, 501.38s/it]"
     ]
    },
    {
     "name": "stdout",
     "output_type": "stream",
     "text": [
      "new driver\n"
     ]
    },
    {
     "name": "stderr",
     "output_type": "stream",
     "text": [
      "100%|██████████| 3788/3788 [23:51:02<00:00, 22.67s/it]     \n"
     ]
    }
   ],
   "source": [
    "from crawler import WebDriver\n",
    "import time\n",
    "import random\n",
    "import json\n",
    "from json.decoder import JSONDecodeError\n",
    "\n",
    "web_source = 'https://www.google.com/search?q=mcdonald&sca_esv=556221820&tbm=lcl&ei=iSjXZMX7HMuQhwPnqJbgAg&oq=mcd&gs_lp=Eg1nd3Mtd2l6LWxvY2FsIgNtY2QqAggAMg0QABiKBRixAxiDARhDMgcQABiKBRhDMgcQABiKBRhDMgcQABiKBRhDMgcQABiKBRhDMgcQABiKBRhDMgUQABiABDIFEAAYgAQyBRAAGIAEMggQABiABBixA0jZQVAAWPg5cA94AJABAJgBKaABtgKqAQE5uAEDyAEA-AEBqAIAwgILEAAYgAQYsQMYgwHCAgsQABiKBRixAxiDAcICChAAGIoFGLEDGEOIBgE&sclient=gws-wiz-local#rlfi=hd:;si:;mv:[[25.0579939,121.5714136],[24.995991099999998,121.51168539999999]];tbs:lrf:!1m4!1u3!2m2!3m1!1e1!2m1!1e3!3sIAE,lf:1,lf_ui:4'\n",
    "driver = WebDriver()\n",
    "driver.get_url(web_source)\n",
    "driver.implicitly_wait(20)\n",
    "\n",
    "search_result = []\n",
    "\n",
    "with open('restaurant.json', 'r', encoding='utf-8') as infile:\n",
    "    try:\n",
    "        json_data = json.load(infile)\n",
    "        print('previous : ', json_data.keys())\n",
    "    except JSONDecodeError:\n",
    "        json_data = {}\n",
    "\n",
    "with open('restaurant.json', 'w', encoding='utf-8') as outfile:\n",
    "    for i in trange(info_df.shape[0], position=0):\n",
    "        try:\n",
    "            # json_data = json.load(infile)\n",
    "            address, name = info_df.iloc[i]['address'], info_df.iloc[i]['name']\n",
    "            \n",
    "            # json_data = json.load(open('restaurant.json', encoding='utf-8'))\n",
    "\n",
    "            if name in json_data:\n",
    "                continue\n",
    "\n",
    "            result = driver.search_restaurant(name, address)\n",
    "\n",
    "            if result == (None, None):\n",
    "                ratings = None\n",
    "            else:\n",
    "                driver.implicitly_wait(20)\n",
    "                try:\n",
    "                    _, ratings = driver.get_reviews()\n",
    "                    if ratings:\n",
    "                        for timestamp in ratings.keys():\n",
    "                            ratings[timestamp] = sum(ratings[timestamp]) / len(ratings[timestamp])\n",
    "\n",
    "                        ratings = dict(ratings)\n",
    "                except:\n",
    "                    ratings = None\n",
    "\n",
    "            json_data[name] = ((name, address), result, ratings)\n",
    "\n",
    "            # print(json_data[name])\n",
    "\n",
    "            outfile.seek(0)\n",
    "            json.dump(json_data, outfile, ensure_ascii = False)\n",
    "\n",
    "            time.sleep(random.randint(1, 2))\n",
    "            driver.driver.delete_all_cookies()\n",
    "        except:\n",
    "            # driver.driver.delete_all_cookies()\n",
    "            # uselessWindows = driver.driver.window_handles\n",
    "            # driver.driver.switch_to.window(uselessWindows[-1]) \n",
    "            # driver.driver.close()\n",
    "\n",
    "            driver = WebDriver()\n",
    "            driver.get_url(web_source)\n",
    "            driver.implicitly_wait(20)\n",
    "            i -= 1\n",
    "            print('new driver')"
   ]
  },
  {
   "cell_type": "code",
   "execution_count": null,
   "metadata": {},
   "outputs": [],
   "source": [
    "# for i in range(info_df.shape[0]):\n",
    "#     address, name = info_df.iloc[i]['address'], info_df.iloc[i]['name']\n",
    "#     driver.search_restaurant(name, address)\n",
    "#     driver.implicitly_wait(20)\n",
    "#     reviews, ratings = driver.get_reviews()\n",
    "\n",
    "#     for time in ratings.keys():\n",
    "#         ratings[time] = sum(ratings[time]) / len(ratings[time])\n",
    "\n",
    "#     print(dict(ratings))"
   ]
  }
 ],
 "metadata": {
  "kernelspec": {
   "display_name": "ichef",
   "language": "python",
   "name": "python3"
  },
  "language_info": {
   "codemirror_mode": {
    "name": "ipython",
    "version": 3
   },
   "file_extension": ".py",
   "mimetype": "text/x-python",
   "name": "python",
   "nbconvert_exporter": "python",
   "pygments_lexer": "ipython3",
   "version": "3.9.16"
  },
  "orig_nbformat": 4
 },
 "nbformat": 4,
 "nbformat_minor": 2
}
